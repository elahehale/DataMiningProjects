{
 "cells": [
  {
   "cell_type": "markdown",
   "id": "e4e875a6-0490-4389-829f-a8bfd0979711",
   "metadata": {},
   "source": [
    "\n",
    "<h1 align=center style=\"line-height:300%;font-family:vazir;color:#0099cc\">\n",
    "<font face=\"vazir\" color=\"#0099cc\">\n",
    "سری دوم تمارین عملی درس داده کاوی\n",
    "</font>\n",
    "</h1>\n",
    "<h3 align=center style=\"line-height:100%;font-family:vazir;color:#0099cc\">\n",
    "استاد درس: دکتر مریم امیر مزلقانی\n",
    "</h3>\n",
    "<h5 align=center style=\"font-size: 20px;line-height:100%;font-family:vazir;color:#0099cc\">\n",
    "طراح تمرین عملی: محمد چوپان  \n",
    "    </h5>\n",
    "<p align=center style=\"font-size: 16;line-height:100%;font-family:vazir;color:#0099cc\">\n",
    "    <a href=\"mailto:Aut.DataMining.Fall@gmail.com\">Aut.DataMining.Fall@gmail.com</a>\n",
    "</p>\n"
   ]
  },
  {
   "cell_type": "markdown",
   "id": "4e4c200f-a461-453a-ba3a-9ea0b558ad95",
   "metadata": {},
   "source": [
    "<div dir=\"ltr\">\n",
    "<p style=\"font-size: 16;line-height:100%;font-family:vazir;color:red;dir:rtl\">\n",
    "لطفا خواسته های تمرین را در بخش خودش انجام دهید.\n",
    "دقت کنید نتایج مقایسه ها حتما باید در پاسخ شما وجود داشته باشد.\n",
    "</p>\n",
    "</div>"
   ]
  },
  {
   "cell_type": "markdown",
   "id": "a93d8c93-0f04-4968-80cb-f7f14dd3f9b4",
   "metadata": {},
   "source": [
    "# HW2"
   ]
  },
  {
   "cell_type": "markdown",
   "id": "fbc3183f-34af-4051-97f6-ce78134bf973",
   "metadata": {},
   "source": [
    "## Imports"
   ]
  },
  {
   "cell_type": "code",
   "execution_count": 8,
   "id": "811e5873-e438-4f82-96ae-3bf21c9236ee",
   "metadata": {},
   "outputs": [],
   "source": [
    "## TODO\n",
    "import pandas\n",
    "import numpy\n",
    "import matplotlib.pyplot as plt\n",
    "from sklearn.linear_model import LinearRegression\n",
    "from sklearn.preprocessing import PolynomialFeatures, MinMaxScaler\n",
    "from sklearn.metrics import mean_squared_error\n",
    "from sklearn.tree import DecisionTreeClassifier\n",
    "from sklearn.ensemble import RandomForestClassifier\n",
    "from sklearn.neighbors import KNeighborsClassifier\n",
    "from sklearn.svm import SVC\n",
    "from sklearn.svm import LinearSVC\n",
    "from sklearn.metrics import accuracy_score\n",
    "from sklearn.preprocessing import LabelEncoder\n",
    "from sklearn.metrics import r2_score\n"
   ]
  },
  {
   "cell_type": "markdown",
   "id": "1eac2907-3789-45a1-841d-a3f543edaef6",
   "metadata": {},
   "source": [
    "## Load data"
   ]
  },
  {
   "cell_type": "markdown",
   "id": "4c327de4-e924-4cca-a1aa-ef0db30cf5ff",
   "metadata": {},
   "source": [
    "<div dir=\"rtl\">\n",
    "\n",
    "<p dir=rtl style=\"direction: rtl;text-align: justify;line-height:200%;font-family:vazir;font-size:medium\">\n",
    "<font face=\"vazir\" size=3>\n",
    "در این مرحله همانند تمرین قبلی داده ها را درون یک دیتا فریم pandas ذخیره میکنید\n",
    "</font>\n",
    "</p>\n",
    "</div>"
   ]
  },
  {
   "cell_type": "code",
   "execution_count": 3,
   "id": "0c104a97-be13-4918-95be-43f57de59d07",
   "metadata": {},
   "outputs": [
    {
     "name": "stdout",
     "output_type": "stream",
     "text": [
      "            ville ville_ascii      lat       lng         pays iso2 iso3  \\\n",
      "0        A Coruña    A Coruna  43.3667   -8.3833        Spain   ES  ESP   \n",
      "1        A Yun Pa    A Yun Pa  13.3939  108.4408      Vietnam   VN  VNM   \n",
      "2        Aabenraa    Aabenraa  55.0444    9.4181      Denmark   DK  DNK   \n",
      "3          Aachen      Aachen  50.7756    6.0836      Germany   DE  DEU   \n",
      "4          Aadorf      Aadorf  47.4939    8.8975  Switzerland   CH  CHE   \n",
      "...           ...         ...      ...       ...          ...  ...  ...   \n",
      "44662     Żychlin     Zychlin  52.2453   19.6236       Poland   PL  POL   \n",
      "44663    Żyrardów    Zyrardow  52.0500   20.4333       Poland   PL  POL   \n",
      "44664    Zyryanka    Zyryanka  65.7360  150.8900       Russia   RU  RUS   \n",
      "44665  Zyryanovsk  Zyryanovsk  49.7453   84.2548   Kazakhstan   KZ  KAZ   \n",
      "44666      Żywiec      Zywiec  49.6892   19.2058       Poland   PL  POL   \n",
      "\n",
      "                    admin_nom capital  population            id  \n",
      "0                     Galicia   minor    245468.0  1.724417e+09  \n",
      "1                     Gia Lai   minor     53720.0  1.704946e+09  \n",
      "2                  Syddanmark   minor     16401.0  1.208000e+09  \n",
      "3      North Rhine-Westphalia   minor    249070.0  1.276806e+09  \n",
      "4                     Thurgau     NaN      9036.0  1.756023e+09  \n",
      "...                       ...     ...         ...           ...  \n",
      "44662                 Łódzkie     NaN      9021.0  1.616509e+09  \n",
      "44663             Mazowieckie   minor     39374.0  1.616146e+09  \n",
      "44664        Sakha (Yakutiya)     NaN      3627.0  1.643202e+09  \n",
      "44665                     NaN   minor     49658.0  1.398361e+09  \n",
      "44666                 Śląskie   minor     30334.0  1.616870e+09  \n",
      "\n",
      "[44667 rows x 11 columns]\n"
     ]
    }
   ],
   "source": [
    "## TODO\n",
    "dataset = pandas.read_excel('worldcities.xlsx', sheet_name='Sheet1')\n",
    "print(dataset)"
   ]
  },
  {
   "cell_type": "markdown",
   "id": "993415e6-2590-4314-b4f7-0e60b8938171",
   "metadata": {},
   "source": [
    " ## Add column"
   ]
  },
  {
   "cell_type": "markdown",
   "id": "48cf5cfc-6c85-45af-abfd-3b15417d2b9f",
   "metadata": {},
   "source": [
    "<div dir=\"rtl\">\n",
    "\n",
    "<p dir=rtl style=\"direction: rtl;text-align: justify;line-height:200%;font-family:vazir;font-size:medium\">\n",
    "<font face=\"vazir\" size=3>\n",
    "در این مرحله با توجه به ستون جمعیت یک ستون جدید تحت عنوان Population level   اضافه کنید به طوری که به 4 دسته زیر  بر اساس وضعیت هر داده اختصاص داده می شودند.\n",
    "</br>\n",
    "    <div dir=\"ltr\">\n",
    "Low: 0-25%\n",
    "    </br>\n",
    "Mid: 25-50%\n",
    "    </br>\n",
    "High: 50-70%\n",
    "    </br>\n",
    "Over: 70-100%\n",
    "    </div>\n",
    "</font>\n",
    "</p>\n",
    "</div>"
   ]
  },
  {
   "cell_type": "code",
   "execution_count": 4,
   "id": "1072ca6b-2077-4922-bc17-50d98f1a6563",
   "metadata": {},
   "outputs": [
    {
     "name": "stdout",
     "output_type": "stream",
     "text": [
      "max population: 37732000.0\n",
      "      ville  population population level\n",
      "0  A Coruña    245468.0              Low\n",
      "1  A Yun Pa     53720.0              Low\n",
      "2  Aabenraa     16401.0              Low\n",
      "3    Aachen    249070.0              Low\n",
      "4    Aadorf      9036.0              Low\n"
     ]
    }
   ],
   "source": [
    "## TODO\n",
    "max_population = dataset['population'].max()\n",
    "print('max population:' ,max_population)\n",
    "\n",
    "def get_population_level(population):\n",
    "    if population <= 0.25 * max_population:\n",
    "        return 'Low'\n",
    "    elif population <= 0.50 * max_population:\n",
    "        return 'Mid'\n",
    "    elif population <= 0.70 * max_population:\n",
    "        return 'High'\n",
    "    else:\n",
    "        return 'Over'\n",
    "dataset['population level'] = dataset['population'].apply(get_population_level)\n",
    "\n",
    "print(dataset[['ville', 'population', 'population level']].head())"
   ]
  },
  {
   "cell_type": "markdown",
   "id": "9a2da931-7aef-4ec8-9631-a7f84928a572",
   "metadata": {},
   "source": [
    "## Preproccess"
   ]
  },
  {
   "cell_type": "markdown",
   "id": "9896cb24-ac84-4bf7-986f-44e8dd46da7c",
   "metadata": {},
   "source": [
    "<div dir=\"rtl\">\n",
    "\n",
    "<p dir=rtl style=\"direction: rtl;text-align: justify;line-height:200%;font-family:vazir;font-size:medium\">\n",
    "<font face=\"vazir\" size=3>\n",
    "    در این بخش باید ستون های خالی داده ها راحذف کرده و در نهایت تمامی ستون ها را به داده های عددی تبدیل کنید به جز ستون اضافه شده\n",
    "</font>\n",
    "</p>\n",
    "</div>"
   ]
  },
  {
   "cell_type": "code",
   "execution_count": 5,
   "id": "926e1b30-615a-4e8a-a9ee-27b5c91ff627",
   "metadata": {},
   "outputs": [
    {
     "name": "stdout",
     "output_type": "stream",
     "text": [
      "       ville  ville_ascii      lat       lng  pays  iso2  iso3  admin_nom  \\\n",
      "0          0            0  43.3667   -8.3833   163    54    54        936   \n",
      "1          1            1  13.3939  108.4408   193   189   189        966   \n",
      "2          2            2  55.0444    9.4181    47    46    48       2866   \n",
      "3          3            3  50.7756    6.0836    66    44    45       2109   \n",
      "5          4            4  57.0500    9.9167    47    46    48       2096   \n",
      "...      ...          ...      ...       ...   ...   ...   ...        ...   \n",
      "44656  10097        10357  50.7167   12.5000    66    44    45       2665   \n",
      "44658  10098        10358  51.8167    4.6500   121   130   129       3343   \n",
      "44660  10099        10359  52.5167    6.1000   121   130   129       2233   \n",
      "44663  10353        10360  52.0500   20.4333   137   141   140       1850   \n",
      "44666  10354        10361  49.6892   19.2058   137   141   140       3396   \n",
      "\n",
      "       capital  population            id population level  \n",
      "0            1    245468.0  1.724417e+09              Low  \n",
      "1            1     53720.0  1.704946e+09              Low  \n",
      "2            1     16401.0  1.208000e+09              Low  \n",
      "3            1    249070.0  1.276806e+09              Low  \n",
      "5            0    143598.0  1.208789e+09              Low  \n",
      "...        ...         ...           ...              ...  \n",
      "44656        1     89540.0  1.276684e+09              Low  \n",
      "44658        1     44775.0  1.528524e+09              Low  \n",
      "44660        0    129840.0  1.528690e+09              Low  \n",
      "44663        1     39374.0  1.616146e+09              Low  \n",
      "44666        1     30334.0  1.616870e+09              Low  \n",
      "\n",
      "[10738 rows x 12 columns]\n"
     ]
    }
   ],
   "source": [
    "# Drop records with missing value\n",
    "dataset.dropna(inplace=True)\n",
    "columns_to_encode = ['ville', 'ville_ascii', 'pays', 'iso2', 'iso3', 'admin_nom', 'capital']\n",
    "\n",
    "for column in columns_to_encode:\n",
    "    encoder = LabelEncoder()\n",
    "    dataset[column] = encoder.fit_transform(dataset[column])\n",
    "print(dataset)"
   ]
  },
  {
   "cell_type": "markdown",
   "id": "29659ac3-64d9-49be-b3cc-3161735608d2",
   "metadata": {},
   "source": [
    "<div dir=\"rtl\">\n",
    "\n",
    "<p dir=rtl style=\"direction: rtl;text-align: justify;line-height:200%;font-family:vazir;font-size:medium\">\n",
    "<font face=\"vazir\" size=3>\n",
    " حال باید داده های به دست آمده از قسمت قبلی را نرمال سازی کنید.\n",
    "</font>\n",
    "</p>\n",
    "</div>"
   ]
  },
  {
   "cell_type": "code",
   "execution_count": 6,
   "id": "81cf9e8d-690c-40e0-bd4b-7332c00fea75",
   "metadata": {},
   "outputs": [
    {
     "name": "stdout",
     "output_type": "stream",
     "text": [
      "          ville  ville_ascii       lat       lng      pays      iso2  \\\n",
      "0      0.000000     0.000000  0.782664  0.472727  0.831633  0.275510   \n",
      "1      0.000096     0.000097  0.544021  0.801105  0.984694  0.964286   \n",
      "2      0.000193     0.000193  0.875642  0.522764  0.239796  0.234694   \n",
      "3      0.000289     0.000290  0.841653  0.513391  0.336735  0.224490   \n",
      "5      0.000386     0.000386  0.891610  0.524166  0.239796  0.234694   \n",
      "...         ...          ...       ...       ...       ...       ...   \n",
      "44656  0.973205     0.999614  0.841185  0.531427  0.336735  0.224490   \n",
      "44658  0.973301     0.999710  0.849943  0.509362  0.617347  0.663265   \n",
      "44660  0.973398     0.999807  0.855516  0.513438  0.617347  0.663265   \n",
      "44663  0.997880     0.999903  0.851800  0.553727  0.698980  0.719388   \n",
      "44666  0.997976     1.000000  0.833004  0.550276  0.698980  0.719388   \n",
      "\n",
      "           iso3  admin_nom  capital  population        id population level  \n",
      "0      0.275510   0.270677      0.5    0.006506  0.802269              Low  \n",
      "1      0.964286   0.279352      0.5    0.001424  0.780585              Low  \n",
      "2      0.244898   0.828803      0.5    0.000435  0.227175              Low  \n",
      "3      0.229592   0.609890      0.5    0.006601  0.303799              Low  \n",
      "5      0.244898   0.606131      0.0    0.003806  0.228054              Low  \n",
      "...         ...        ...      ...         ...       ...              ...  \n",
      "44656  0.229592   0.770677      0.5    0.002373  0.303663              Low  \n",
      "44658  0.658163   0.966744      0.5    0.001187  0.584118              Low  \n",
      "44660  0.658163   0.645749      0.0    0.003441  0.584303              Low  \n",
      "44663  0.714286   0.534991      0.5    0.001044  0.681695              Low  \n",
      "44666  0.714286   0.982071      0.5    0.000804  0.682502              Low  \n",
      "\n",
      "[10738 rows x 12 columns]\n"
     ]
    }
   ],
   "source": [
    "# TODO\n",
    "features_to_normalize = [\n",
    "    col for col in dataset.columns if col != 'population level'\n",
    "]\n",
    "\n",
    "scaler = MinMaxScaler()\n",
    "\n",
    "dataset[features_to_normalize] = scaler.fit_transform(dataset[features_to_normalize])\n",
    "print(dataset)"
   ]
  },
  {
   "cell_type": "markdown",
   "id": "ec0e35d0-8209-45c5-9d34-6156d33010d9",
   "metadata": {},
   "source": [
    "## Split"
   ]
  },
  {
   "cell_type": "markdown",
   "id": "9d9b892a-d9c5-4bdf-93b1-04f93d09479c",
   "metadata": {},
   "source": [
    "<div dir=\"rtl\">\n",
    "\n",
    "<p dir=rtl style=\"direction: rtl;text-align: justify;line-height:200%;font-family:vazir;font-size:medium\">\n",
    "<font face=\"vazir\" size=3>\n",
    "داده ها را به دو بخش تست و آموزش با نسبت 80 به 20 تقسیم کنید.\n",
    "</font>\n",
    "</p>\n",
    "</div>"
   ]
  },
  {
   "cell_type": "code",
   "execution_count": 23,
   "id": "4f662ca8-ed93-4d18-a7f4-f887f9bdbbdc",
   "metadata": {},
   "outputs": [],
   "source": [
    "# TODO\n",
    "total_records = len(dataset)\n",
    "train_size = int(0.8 * total_records)\n",
    "\n",
    "indices = numpy.random.permutation(total_records)\n",
    "\n",
    "train_indices = indices[:train_size]\n",
    "test_indices = indices[train_size:]\n",
    "\n",
    "train_set = dataset.iloc[train_indices]\n",
    "test_set = dataset.iloc[test_indices]\n"
   ]
  },
  {
   "cell_type": "markdown",
   "id": "134641a2-081d-44f1-adc0-95f0b8f1c38b",
   "metadata": {},
   "source": [
    "## Regression"
   ]
  },
  {
   "cell_type": "markdown",
   "id": "e9cf9c80-7547-4c95-84e7-a9093a8ff6ba",
   "metadata": {},
   "source": [
    "<div dir=\"rtl\">\n",
    "\n",
    "<p dir=rtl style=\"direction: rtl;text-align: justify;line-height:200%;font-family:vazir;font-size:medium\">\n",
    "<font face=\"vazir\" size=3>\n",
    "برای این قسمت باید ستون Population  را به عنوان برچسب درنظر گرفته و از بقیه ستون هابه عنوان فیچر استفاده کنید\n",
    "</font\n",
    "</p>\n",
    "</div>\n",
    "\n",
    "<div dir=\"rtl\">\n",
    "<p dir=rtl style=\"direction: rtl;text-align: justify;line-height:200%;font-family:vazir;font-size:medium\">\n",
    "<font face=\"vazir\" size=3>\n",
    "باید از رگرسیون خطی\n",
    "،درجه 1 و درجه 2 استفاده کرده و در هر مورد دقت و خطای میانگین مربعات را بدست آورده و نتایج را باهم مقایسه کنید.</font\n",
    "</p>\n",
    "    \n",
    "</div>"
   ]
  },
  {
   "cell_type": "code",
   "execution_count": 24,
   "id": "d86ab34a-c2a0-4de9-953e-875a6c5a8e19",
   "metadata": {},
   "outputs": [
    {
     "name": "stdout",
     "output_type": "stream",
     "text": [
      "Linear Regression MSE: 0.0012523528104391648\n",
      "Polynomial Regression (Degree 1) MSE: 0.0012523528104391652\n",
      "Polynomial Regression (Degree 2) MSE: 0.0010997007864223338\n",
      "\n",
      "Linear Regression accuracy: 0.030316046083458614\n",
      "Polynomial Regression (Degree 1) accuracy: 0.03031604608345828\n",
      "Polynomial Regression (Degree 2) accuracy: 0.14851294474342625\n"
     ]
    }
   ],
   "source": [
    "x_train = train_set.drop([\"population\",\"population level\"], axis=1)\n",
    "y_train = train_set[\"population\"]\n",
    "\n",
    "x_test = test_set.drop([\"population\",\"population level\"], axis=1)\n",
    "y_test = test_set[\"population\"]\n",
    "\n",
    "# Linear Regression\n",
    "linear_regression_model = LinearRegression()\n",
    "linear_regression_model.fit(x_train, y_train)\n",
    "linear_regression_prediction = linear_regression_model.predict(x_test)\n",
    "linear_MSE = mean_squared_error(y_test, linear_regression_prediction)\n",
    "linear_acc = r2_score(y_test,linear_regression_prediction)\n",
    "\n",
    "# Polynomial Regression (Degree 1)\n",
    "polynominal_degree1 = PolynomialFeatures(degree=1)\n",
    "x_train_p1 = polynominal_degree1.fit_transform(x_train)\n",
    "x_test_p1 = polynominal_degree1.transform(x_test)\n",
    "polynomial_degree1_model = LinearRegression()\n",
    "polynomial_degree1_model.fit(x_train_p1, y_train)\n",
    "polynomial_degree1_prediction = polynomial_degree1_model.predict(x_test_p1)\n",
    "polynomial_degree1_MSE = mean_squared_error(y_test, polynomial_degree1_prediction)\n",
    "polynomial_degree1_acc = r2_score(y_test,polynomial_degree1_prediction)\n",
    "\n",
    "# Polynomial Regression (Degree 2)\n",
    "polynomial_degree2 = PolynomialFeatures(degree=2)\n",
    "x_poly2_train = polynomial_degree2.fit_transform(x_train)\n",
    "x_poly2_test = polynomial_degree2.transform(x_test)\n",
    "polynomial_degree2_model = LinearRegression()\n",
    "polynomial_degree2_model.fit(x_poly2_train, y_train)\n",
    "polynomial_degree2_prediction = polynomial_degree2_model.predict(x_poly2_test)\n",
    "polynomial_degree2_MSE = mean_squared_error(y_test, polynomial_degree2_prediction)\n",
    "polynomial_degree2_acc = r2_score(y_test,polynomial_degree2_prediction)\n",
    "\n",
    "# Compare the results\n",
    "print(\"Linear Regression MSE:\", linear_MSE)\n",
    "print(\"Polynomial Regression (Degree 1) MSE:\", polynomial_degree1_MSE)\n",
    "print(\"Polynomial Regression (Degree 2) MSE:\", polynomial_degree2_MSE)\n",
    "print(\"\\nLinear Regression accuracy:\", linear_acc)\n",
    "print(\"Polynomial Regression (Degree 1) accuracy:\", polynomial_degree1_acc)\n",
    "print(\"Polynomial Regression (Degree 2) accuracy:\", polynomial_degree2_acc)\n",
    "\n"
   ]
  },
  {
   "cell_type": "markdown",
   "id": "32ab615d-f77d-4e93-bbd9-a7c58845be79",
   "metadata": {},
   "source": [
    "## Classification"
   ]
  },
  {
   "cell_type": "markdown",
   "id": "0cfc1ba8-be9d-4a68-8911-f8cb4369e321",
   "metadata": {},
   "source": [
    "<div dir=\"rtl\">\n",
    "\n",
    "<p dir=rtl style=\"direction: rtl;text-align: justify;line-height:200%;font-family:vazir;font-size:medium\">\n",
    "<font face=\"vazir\" size=3>\n",
    "برای این قسمت باید ستون Population level  را به عنوان برچسب درنظر گرفته و از بقیه ستون هابه عنوان فیچر استفاده کنید\n",
    "همچنین ستون Population را نیز حذف کنید\n",
    "    </font>\n",
    "</p>\n",
    "</div>\n",
    "\n",
    "<div dir=\"rtl\">\n",
    "<p dir=rtl style=\"direction: rtl;text-align: justify;line-height:200%;font-family:vazir;font-size:medium\">\n",
    "در هر فسمت باید الگوریتم مشخص شده را پیاده سازی کرده و درنهایت نتیجه را با بقیه قسمت ها مقایسه کنید.\n",
    "    \n",
    "</p>\n",
    "    \n",
    "</div>"
   ]
  },
  {
   "cell_type": "markdown",
   "id": "17aab964-d818-41c2-9085-e3dc6fb736a9",
   "metadata": {},
   "source": [
    "### Decision Tree (Entropy)"
   ]
  },
  {
   "cell_type": "code",
   "execution_count": 25,
   "id": "b3d67df5-dcb3-4384-a826-37d521e45fde",
   "metadata": {},
   "outputs": [],
   "source": [
    "# TODO\n",
    "train_set = train_set.drop(\"population\", axis=1)\n",
    "test_set = test_set.drop(\"population\", axis=1)\n",
    "\n",
    "\n",
    "decision_tree_entropy = DecisionTreeClassifier(criterion='entropy', random_state=42)\n",
    "decision_tree_entropy.fit(train_set.drop(\"population level\", axis=1), train_set[\"population level\"])\n",
    "dt_entropy_pred = decision_tree_entropy.predict(test_set.drop(\"population level\", axis=1))\n",
    "dt_entropy_accuracy = accuracy_score(test_set[\"population level\"], dt_entropy_pred)\n"
   ]
  },
  {
   "cell_type": "markdown",
   "id": "e78e36a4-db5f-4575-b4bf-adbe415a3608",
   "metadata": {},
   "source": [
    "### Random Forest (Entropy)"
   ]
  },
  {
   "cell_type": "code",
   "execution_count": 26,
   "id": "1a300801-83f0-4a99-8f8f-5912f5915379",
   "metadata": {},
   "outputs": [],
   "source": [
    "# TODO\n",
    "random_forest_entropy = RandomForestClassifier(criterion='entropy', random_state=42)\n",
    "random_forest_entropy.fit(train_set.drop(\"population level\", axis=1), train_set[\"population level\"])\n",
    "rf_entropy_pred = random_forest_entropy.predict(test_set.drop(\"population level\", axis=1))\n",
    "rf_entropy_accuracy = accuracy_score(test_set[\"population level\"], rf_entropy_pred)\n"
   ]
  },
  {
   "cell_type": "markdown",
   "id": "ca6e9942-7d04-4851-aa31-42926bc4a2f2",
   "metadata": {},
   "source": [
    "### KNN K=2"
   ]
  },
  {
   "cell_type": "code",
   "execution_count": 27,
   "id": "295dd113-5946-42a5-a97f-d730c58f1f0c",
   "metadata": {},
   "outputs": [],
   "source": [
    "# TODO\n",
    "knn_k2 = KNeighborsClassifier(n_neighbors=2)\n",
    "knn_k2.fit(train_set.drop(\"population level\", axis=1), train_set[\"population level\"])\n",
    "knn_k2_pred = knn_k2.predict(test_set.drop(\"population level\", axis=1))\n",
    "knn_k2_accuracy = accuracy_score(test_set[\"population level\"], knn_k2_pred)\n"
   ]
  },
  {
   "cell_type": "markdown",
   "id": "99ad964b-2f5c-45d0-b2aa-c4c785d5e711",
   "metadata": {},
   "source": [
    "### KNN K=3"
   ]
  },
  {
   "cell_type": "code",
   "execution_count": 28,
   "id": "180e81db-71ed-4e75-8b5f-41da93d5498f",
   "metadata": {},
   "outputs": [],
   "source": [
    "# TODO\n",
    "knn_k3 = KNeighborsClassifier(n_neighbors=3)\n",
    "knn_k3.fit(train_set.drop(\"population level\", axis=1), train_set[\"population level\"])\n",
    "knn_k3_pred = knn_k3.predict(test_set.drop(\"population level\", axis=1))\n",
    "knn_k3_accuracy = accuracy_score(test_set[\"population level\"], knn_k3_pred)\n"
   ]
  },
  {
   "cell_type": "markdown",
   "id": "75073d5c-6704-4b5c-93e8-8c72e4ef69f2",
   "metadata": {},
   "source": [
    "### KNN K=5"
   ]
  },
  {
   "cell_type": "code",
   "execution_count": 29,
   "id": "b5c76909-ab69-4b03-8919-b372dace8feb",
   "metadata": {},
   "outputs": [],
   "source": [
    "# TODO\n",
    "knn_k5 = KNeighborsClassifier(n_neighbors=5)\n",
    "knn_k5.fit(train_set.drop(\"population level\", axis=1), train_set[\"population level\"])\n",
    "knn_k5_pred = knn_k5.predict(test_set.drop(\"population level\", axis=1))\n",
    "knn_k5_accuracy = accuracy_score(test_set[\"population level\"], knn_k5_pred)\n"
   ]
  },
  {
   "cell_type": "markdown",
   "id": "2531fe89-c5b3-4fe5-8efa-a7f141f8e61e",
   "metadata": {},
   "source": [
    "### SVM (Linear)"
   ]
  },
  {
   "cell_type": "code",
   "execution_count": 30,
   "id": "eeb52dae-48cb-4785-beaf-c8a6069986c2",
   "metadata": {},
   "outputs": [],
   "source": [
    "# TODO\n",
    "svm_linear = LinearSVC( dual=False, random_state=42)\n",
    "svm_linear.fit(train_set.drop(\"population level\", axis=1), train_set[\"population level\"])\n",
    "svm_linear_pred = svm_linear.predict(test_set.drop(\"population level\", axis=1))\n",
    "svm_linear_accuracy = accuracy_score(test_set[\"population level\"], svm_linear_pred)\n"
   ]
  },
  {
   "cell_type": "markdown",
   "id": "d99d0a22-f302-497b-9c84-ef028e0bb9b2",
   "metadata": {},
   "source": [
    "### SVM (Non-linear)"
   ]
  },
  {
   "cell_type": "code",
   "execution_count": 31,
   "id": "decea248-30f7-4fbe-8119-5da191d51f58",
   "metadata": {},
   "outputs": [],
   "source": [
    "# TODO\n",
    "svm_non_linear = SVC(random_state=42)\n",
    "svm_non_linear.fit(train_set.drop(\"population level\", axis=1), train_set[\"population level\"])\n",
    "svm_non_linear_pred = svm_non_linear.predict(test_set.drop(\"population level\", axis=1))\n",
    "svm_non_linear_accuracy = accuracy_score(test_set[\"population level\"], svm_non_linear_pred)\n"
   ]
  },
  {
   "cell_type": "markdown",
   "id": "5119775c-8d7b-4bb8-893a-70f059bf72c4",
   "metadata": {},
   "source": [
    "### Compare"
   ]
  },
  {
   "cell_type": "code",
   "execution_count": 32,
   "id": "0595ad30-171f-4a0e-a236-8cafcfdbda2a",
   "metadata": {},
   "outputs": [
    {
     "name": "stdout",
     "output_type": "stream",
     "text": [
      "Decision Tree (Entropy) Accuracy: 0.9925512104283054\n",
      "Random Forest (Entropy) Accuracy: 0.9953445065176909\n",
      "KNN K=2 Accuracy: 0.99487895716946\n",
      "KNN K=3 Accuracy: 0.9953445065176909\n",
      "KNN K=5 Accuracy: 0.9953445065176909\n",
      "SVM (Linear) Accuracy: 0.99487895716946\n",
      "SVM (Non-linear) Accuracy: 0.99487895716946\n"
     ]
    }
   ],
   "source": [
    "# Compare all models\n",
    "print(\"Decision Tree (Entropy) Accuracy:\", dt_entropy_accuracy)\n",
    "print(\"Random Forest (Entropy) Accuracy:\", rf_entropy_accuracy)\n",
    "print(\"KNN K=2 Accuracy:\", knn_k2_accuracy)\n",
    "print(\"KNN K=3 Accuracy:\", knn_k3_accuracy)\n",
    "print(\"KNN K=5 Accuracy:\", knn_k5_accuracy)\n",
    "print(\"SVM (Linear) Accuracy:\", svm_linear_accuracy)\n",
    "print(\"SVM (Non-linear) Accuracy:\", svm_non_linear_accuracy)"
   ]
  },
  {
   "cell_type": "code",
   "execution_count": null,
   "id": "65a7898f-f2c8-4362-ac46-e1fdf6d4f6ea",
   "metadata": {},
   "outputs": [],
   "source": []
  }
 ],
 "metadata": {
  "kernelspec": {
   "display_name": "Python 3 (ipykernel)",
   "language": "python",
   "name": "python3"
  },
  "language_info": {
   "codemirror_mode": {
    "name": "ipython",
    "version": 3
   },
   "file_extension": ".py",
   "mimetype": "text/x-python",
   "name": "python",
   "nbconvert_exporter": "python",
   "pygments_lexer": "ipython3",
   "version": "3.10.4"
  }
 },
 "nbformat": 4,
 "nbformat_minor": 5
}