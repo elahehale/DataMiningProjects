{
 "cells": [
  {
   "cell_type": "markdown",
   "metadata": {},
   "source": [
    "<h1 align=center style=\"line-height:300%;font-family:vazir;color:#0099cc\">\n",
    "<font face=\"vazir\" color=\"#0099cc\">\n",
    "سری سوم تمارین عملی درس داده کاوی\n",
    "</font>\n",
    "</h1>\n",
    "<h3 align=center style=\"line-height:100%;font-family:vazir;color:#0099cc\">\n",
    "استاد درس: دکتر مریم امیر مزلقانی\n",
    "</h3>\n",
    "<h5 align=center style=\"font-size: 20px;line-height:100%;font-family:vazir;color:#0099cc\">\n",
    "طراح تمرین عملی: پوریا جمیع  \n",
    "</h5>\n",
    "<div align=center style=\"font-size: 16;line-height:100%;font-family:vazir;color:#0099cc\">\n",
    "    <a href=\"mailto:Aut.DataMining.Fall@gmail.com\">Aut.DataMining.Fall@gmail.com</a>\n",
    "</div>\n"
   ]
  },
  {
   "cell_type": "markdown",
   "metadata": {},
   "source": [
    "<div dir=\"rtl\">\n",
    "<div align=right style=\"font-size: 16;line-height:160%;font-family:vazir;color:yellow\">\n",
    "لطفا خواسته های تمرین را در بخش خودش انجام دهید.\n",
    "</div>\n",
    "<div dir=\"rtl\">\n",
    "<div align=right style=\"font-size: 16;line-height:160%;font-family:vazir;color:yellow\">\n",
    "میتوانید در صورت نیاز بلوک جدیدی برای هر بخش اضافه کنید تا کد خوانا تر شود.\n",
    "</div>\n",
    "</div>"
   ]
  },
  {
   "cell_type": "markdown",
   "metadata": {},
   "source": [
    "<div align=right style=\"font-size: 20px;line-height:100%;font-family:vazir;color:pink\" dir=\"rtl\">\n",
    "الهه حبیب زاده شجاعی 9931014\n",
    "</div>\n",
    "\n"
   ]
  },
  {
   "cell_type": "markdown",
   "metadata": {},
   "source": [
    "<div dir=\"rtl\">\n",
    "<h3 align=right style=\"font-size: 16;line-height:100%;font-family:vazir;color:white\">\n",
    "خواندن کتابخانه ها\n",
    "</h3>\n",
    "</div>"
   ]
  },
  {
   "cell_type": "code",
   "execution_count": 1,
   "metadata": {},
   "outputs": [],
   "source": [
    "import pandas\n",
    "import numpy\n",
    "import matplotlib.pyplot as plt\n",
    "from sklearn.linear_model import LinearRegression\n",
    "from sklearn.preprocessing import PolynomialFeatures, MinMaxScaler\n",
    "from sklearn.preprocessing import StandardScaler\n",
    "\n",
    "from sklearn.metrics import mean_squared_error\n",
    "from sklearn.tree import DecisionTreeClassifier\n",
    "from sklearn.ensemble import RandomForestClassifier\n",
    "from sklearn.neighbors import KNeighborsClassifier\n",
    "from sklearn.svm import SVC\n",
    "from sklearn.svm import LinearSVC\n",
    "from sklearn.metrics import accuracy_score\n",
    "from sklearn.preprocessing import LabelEncoder\n",
    "from sklearn.metrics import r2_score\n",
    "import seaborn as sns\n"
   ]
  },
  {
   "cell_type": "markdown",
   "metadata": {},
   "source": [
    "\n",
    "---\n"
   ]
  },
  {
   "cell_type": "markdown",
   "metadata": {},
   "source": [
    "<div dir=\"rtl\">\n",
    "<h3 align=right style=\"font-size: 16;line-height:100%;font-family:vazir;color:white\">\n",
    "دریافت مجموعه داده\n",
    "</h3>\n",
    "</div>"
   ]
  },
  {
   "cell_type": "code",
   "execution_count": 12,
   "metadata": {},
   "outputs": [
    {
     "data": {
      "text/html": [
       "<div>\n",
       "<style scoped>\n",
       "    .dataframe tbody tr th:only-of-type {\n",
       "        vertical-align: middle;\n",
       "    }\n",
       "\n",
       "    .dataframe tbody tr th {\n",
       "        vertical-align: top;\n",
       "    }\n",
       "\n",
       "    .dataframe thead th {\n",
       "        text-align: right;\n",
       "    }\n",
       "</style>\n",
       "<table border=\"1\" class=\"dataframe\">\n",
       "  <thead>\n",
       "    <tr style=\"text-align: right;\">\n",
       "      <th></th>\n",
       "      <th>Age</th>\n",
       "      <th>Work_Class</th>\n",
       "      <th>Final_Weight</th>\n",
       "      <th>Education</th>\n",
       "      <th>Education-Number</th>\n",
       "      <th>Marital_Status</th>\n",
       "      <th>Occupation</th>\n",
       "      <th>Relationship</th>\n",
       "      <th>Race</th>\n",
       "      <th>Sex</th>\n",
       "      <th>Capital_Gain</th>\n",
       "      <th>Capital_Loss</th>\n",
       "      <th>Hours-Per-Week</th>\n",
       "      <th>Native_Country</th>\n",
       "      <th>Income</th>\n",
       "    </tr>\n",
       "  </thead>\n",
       "  <tbody>\n",
       "    <tr>\n",
       "      <th>0</th>\n",
       "      <td>39</td>\n",
       "      <td>State-gov</td>\n",
       "      <td>77516</td>\n",
       "      <td>Bachelors</td>\n",
       "      <td>13</td>\n",
       "      <td>Never-married</td>\n",
       "      <td>Adm-clerical</td>\n",
       "      <td>Not-in-family</td>\n",
       "      <td>White</td>\n",
       "      <td>Male</td>\n",
       "      <td>2174</td>\n",
       "      <td>0</td>\n",
       "      <td>40</td>\n",
       "      <td>United-States</td>\n",
       "      <td>&lt;=50K</td>\n",
       "    </tr>\n",
       "    <tr>\n",
       "      <th>1</th>\n",
       "      <td>50</td>\n",
       "      <td>Self-emp-not-inc</td>\n",
       "      <td>83311</td>\n",
       "      <td>Bachelors</td>\n",
       "      <td>13</td>\n",
       "      <td>Married-civ-spouse</td>\n",
       "      <td>Exec-managerial</td>\n",
       "      <td>Husband</td>\n",
       "      <td>White</td>\n",
       "      <td>Male</td>\n",
       "      <td>0</td>\n",
       "      <td>0</td>\n",
       "      <td>13</td>\n",
       "      <td>United-States</td>\n",
       "      <td>&lt;=50K</td>\n",
       "    </tr>\n",
       "    <tr>\n",
       "      <th>2</th>\n",
       "      <td>38</td>\n",
       "      <td>Private</td>\n",
       "      <td>215646</td>\n",
       "      <td>HS-grad</td>\n",
       "      <td>9</td>\n",
       "      <td>Divorced</td>\n",
       "      <td>Handlers-cleaners</td>\n",
       "      <td>Not-in-family</td>\n",
       "      <td>White</td>\n",
       "      <td>Male</td>\n",
       "      <td>0</td>\n",
       "      <td>0</td>\n",
       "      <td>40</td>\n",
       "      <td>United-States</td>\n",
       "      <td>&lt;=50K</td>\n",
       "    </tr>\n",
       "    <tr>\n",
       "      <th>3</th>\n",
       "      <td>53</td>\n",
       "      <td>Private</td>\n",
       "      <td>234721</td>\n",
       "      <td>11th</td>\n",
       "      <td>7</td>\n",
       "      <td>Married-civ-spouse</td>\n",
       "      <td>Handlers-cleaners</td>\n",
       "      <td>Husband</td>\n",
       "      <td>Black</td>\n",
       "      <td>Male</td>\n",
       "      <td>0</td>\n",
       "      <td>0</td>\n",
       "      <td>40</td>\n",
       "      <td>United-States</td>\n",
       "      <td>&lt;=50K</td>\n",
       "    </tr>\n",
       "    <tr>\n",
       "      <th>4</th>\n",
       "      <td>28</td>\n",
       "      <td>Private</td>\n",
       "      <td>338409</td>\n",
       "      <td>Bachelors</td>\n",
       "      <td>13</td>\n",
       "      <td>Married-civ-spouse</td>\n",
       "      <td>Prof-specialty</td>\n",
       "      <td>Wife</td>\n",
       "      <td>Black</td>\n",
       "      <td>Female</td>\n",
       "      <td>0</td>\n",
       "      <td>0</td>\n",
       "      <td>40</td>\n",
       "      <td>Cuba</td>\n",
       "      <td>&lt;=50K</td>\n",
       "    </tr>\n",
       "    <tr>\n",
       "      <th>...</th>\n",
       "      <td>...</td>\n",
       "      <td>...</td>\n",
       "      <td>...</td>\n",
       "      <td>...</td>\n",
       "      <td>...</td>\n",
       "      <td>...</td>\n",
       "      <td>...</td>\n",
       "      <td>...</td>\n",
       "      <td>...</td>\n",
       "      <td>...</td>\n",
       "      <td>...</td>\n",
       "      <td>...</td>\n",
       "      <td>...</td>\n",
       "      <td>...</td>\n",
       "      <td>...</td>\n",
       "    </tr>\n",
       "    <tr>\n",
       "      <th>32556</th>\n",
       "      <td>27</td>\n",
       "      <td>Private</td>\n",
       "      <td>257302</td>\n",
       "      <td>Assoc-acdm</td>\n",
       "      <td>12</td>\n",
       "      <td>Married-civ-spouse</td>\n",
       "      <td>Tech-support</td>\n",
       "      <td>Wife</td>\n",
       "      <td>White</td>\n",
       "      <td>Female</td>\n",
       "      <td>0</td>\n",
       "      <td>0</td>\n",
       "      <td>38</td>\n",
       "      <td>United-States</td>\n",
       "      <td>&lt;=50K</td>\n",
       "    </tr>\n",
       "    <tr>\n",
       "      <th>32557</th>\n",
       "      <td>40</td>\n",
       "      <td>Private</td>\n",
       "      <td>154374</td>\n",
       "      <td>HS-grad</td>\n",
       "      <td>9</td>\n",
       "      <td>Married-civ-spouse</td>\n",
       "      <td>Machine-op-inspct</td>\n",
       "      <td>Husband</td>\n",
       "      <td>White</td>\n",
       "      <td>Male</td>\n",
       "      <td>0</td>\n",
       "      <td>0</td>\n",
       "      <td>40</td>\n",
       "      <td>United-States</td>\n",
       "      <td>&gt;50K</td>\n",
       "    </tr>\n",
       "    <tr>\n",
       "      <th>32558</th>\n",
       "      <td>58</td>\n",
       "      <td>Private</td>\n",
       "      <td>151910</td>\n",
       "      <td>HS-grad</td>\n",
       "      <td>9</td>\n",
       "      <td>Widowed</td>\n",
       "      <td>Adm-clerical</td>\n",
       "      <td>Unmarried</td>\n",
       "      <td>White</td>\n",
       "      <td>Female</td>\n",
       "      <td>0</td>\n",
       "      <td>0</td>\n",
       "      <td>40</td>\n",
       "      <td>United-States</td>\n",
       "      <td>&lt;=50K</td>\n",
       "    </tr>\n",
       "    <tr>\n",
       "      <th>32559</th>\n",
       "      <td>22</td>\n",
       "      <td>Private</td>\n",
       "      <td>201490</td>\n",
       "      <td>HS-grad</td>\n",
       "      <td>9</td>\n",
       "      <td>Never-married</td>\n",
       "      <td>Adm-clerical</td>\n",
       "      <td>Own-child</td>\n",
       "      <td>White</td>\n",
       "      <td>Male</td>\n",
       "      <td>0</td>\n",
       "      <td>0</td>\n",
       "      <td>20</td>\n",
       "      <td>United-States</td>\n",
       "      <td>&lt;=50K</td>\n",
       "    </tr>\n",
       "    <tr>\n",
       "      <th>32560</th>\n",
       "      <td>52</td>\n",
       "      <td>Self-emp-inc</td>\n",
       "      <td>287927</td>\n",
       "      <td>HS-grad</td>\n",
       "      <td>9</td>\n",
       "      <td>Married-civ-spouse</td>\n",
       "      <td>Exec-managerial</td>\n",
       "      <td>Wife</td>\n",
       "      <td>White</td>\n",
       "      <td>Female</td>\n",
       "      <td>15024</td>\n",
       "      <td>0</td>\n",
       "      <td>40</td>\n",
       "      <td>United-States</td>\n",
       "      <td>&gt;50K</td>\n",
       "    </tr>\n",
       "  </tbody>\n",
       "</table>\n",
       "<p>32561 rows × 15 columns</p>\n",
       "</div>"
      ],
      "text/plain": [
       "       Age         Work_Class  Final_Weight    Education  Education-Number  \\\n",
       "0       39          State-gov         77516    Bachelors                13   \n",
       "1       50   Self-emp-not-inc         83311    Bachelors                13   \n",
       "2       38            Private        215646      HS-grad                 9   \n",
       "3       53            Private        234721         11th                 7   \n",
       "4       28            Private        338409    Bachelors                13   \n",
       "...    ...                ...           ...          ...               ...   \n",
       "32556   27            Private        257302   Assoc-acdm                12   \n",
       "32557   40            Private        154374      HS-grad                 9   \n",
       "32558   58            Private        151910      HS-grad                 9   \n",
       "32559   22            Private        201490      HS-grad                 9   \n",
       "32560   52       Self-emp-inc        287927      HS-grad                 9   \n",
       "\n",
       "            Marital_Status          Occupation    Relationship    Race  \\\n",
       "0            Never-married        Adm-clerical   Not-in-family   White   \n",
       "1       Married-civ-spouse     Exec-managerial         Husband   White   \n",
       "2                 Divorced   Handlers-cleaners   Not-in-family   White   \n",
       "3       Married-civ-spouse   Handlers-cleaners         Husband   Black   \n",
       "4       Married-civ-spouse      Prof-specialty            Wife   Black   \n",
       "...                    ...                 ...             ...     ...   \n",
       "32556   Married-civ-spouse        Tech-support            Wife   White   \n",
       "32557   Married-civ-spouse   Machine-op-inspct         Husband   White   \n",
       "32558              Widowed        Adm-clerical       Unmarried   White   \n",
       "32559        Never-married        Adm-clerical       Own-child   White   \n",
       "32560   Married-civ-spouse     Exec-managerial            Wife   White   \n",
       "\n",
       "           Sex  Capital_Gain  Capital_Loss  Hours-Per-Week  Native_Country  \\\n",
       "0         Male          2174             0              40   United-States   \n",
       "1         Male             0             0              13   United-States   \n",
       "2         Male             0             0              40   United-States   \n",
       "3         Male             0             0              40   United-States   \n",
       "4       Female             0             0              40            Cuba   \n",
       "...        ...           ...           ...             ...             ...   \n",
       "32556   Female             0             0              38   United-States   \n",
       "32557     Male             0             0              40   United-States   \n",
       "32558   Female             0             0              40   United-States   \n",
       "32559     Male             0             0              20   United-States   \n",
       "32560   Female         15024             0              40   United-States   \n",
       "\n",
       "       Income  \n",
       "0       <=50K  \n",
       "1       <=50K  \n",
       "2       <=50K  \n",
       "3       <=50K  \n",
       "4       <=50K  \n",
       "...       ...  \n",
       "32556   <=50K  \n",
       "32557    >50K  \n",
       "32558   <=50K  \n",
       "32559   <=50K  \n",
       "32560    >50K  \n",
       "\n",
       "[32561 rows x 15 columns]"
      ]
     },
     "execution_count": 12,
     "metadata": {},
     "output_type": "execute_result"
    }
   ],
   "source": [
    "# load data\n",
    "trainset = pandas.read_csv('Adult_TrainDataset.csv')\n",
    "trainset"
   ]
  },
  {
   "cell_type": "markdown",
   "metadata": {},
   "source": [
    "\n",
    "---\n"
   ]
  },
  {
   "cell_type": "markdown",
   "metadata": {},
   "source": [
    "<div dir=\"rtl\">\n",
    "<h3 align=right style=\"font-size: 16;line-height:100%;font-family:vazir;color:white\">\n",
    "تحلیل و بررسی داده\n",
    "</h3>\n",
    "</div>\n",
    "\n",
    "<div dir=\"rtl\">\n",
    "<p align=right style=\"font-size: 16;line-height:100%;font-family:vazir;color:white\">\n",
    "در این قسمت مجموعه داده را با روش های مختلف از جمله رسم پلات های مختلف بررسی کنید تا یک شهود کلی نسبت به آن داشته باشید. \n",
    "</p>\n",
    "\n",
    "</div>"
   ]
  },
  {
   "cell_type": "markdown",
   "metadata": {},
   "source": [
    "<div dir=\"rtl\">\n",
    "<h4 align=right style=\"font-size: 16;line-height:100%;font-family:vazir;color:pink\">\n",
    "    - \n",
    "مشاهده ستون های دیتا\n",
    ":</h3>\n",
    "</div>\n",
    "\n",
    "<div dir=\"rtl\">\n",
    "<h5 align=right style=\"font-size: 16;line-height:100%;font-family:vazir;color:pink\">\n",
    " ابتدا ستون ها و فیچر های موجود در دیتاست را چاپ میکنیم تا در ادامه ب ه وسیله آنها چارت های مناسب رسم کنیم.</h5>\n",
    "\n",
    "</div>"
   ]
  },
  {
   "cell_type": "code",
   "execution_count": 3,
   "metadata": {},
   "outputs": [
    {
     "name": "stdout",
     "output_type": "stream",
     "text": [
      "Column names of trainset:\n",
      " Index(['Age', 'Work_Class', 'Final_Weight', 'Education', 'Education-Number',\n",
      "       'Marital_Status', 'Occupation', 'Relationship', 'Race', 'Sex',\n",
      "       'Capital_Gain', 'Capital_Loss', 'Hours-Per-Week', 'Native_Country',\n",
      "       'Income'],\n",
      "      dtype='object')\n"
     ]
    }
   ],
   "source": [
    "# Understanding Dataset\n",
    "print(\"Column names of trainset:\\n\", trainset.columns)\n"
   ]
  },
  {
   "cell_type": "markdown",
   "metadata": {},
   "source": [
    "<div dir=\"rtl\">\n",
    "<h4 align=right style=\"font-size: 16;line-height:100%;font-family:vazir;color:pink\">\n",
    "    - \n",
    "نمودار میله ای برای توزیع کشورها\n",
    "    :</h3>\n",
    "</div>\n",
    "\n",
    "<div dir=\"rtl\">\n",
    "<h5 align=right style=\"font-size: 16;line-height:100%;font-family:vazir;color:pink\">\n",
    "همانطور که مشاهده میشود با اختلاف فاحشی بیشتر نمونه ها متعلق به united states هستند.\n",
    "</h5>\n",
    "\n",
    "</div>"
   ]
  },
  {
   "cell_type": "code",
   "execution_count": 4,
   "metadata": {},
   "outputs": [
    {
     "data": {
      "image/png": "[encoded data removed]",
      "text/plain": [
       "<Figure size 600x400 with 1 Axes>"
      ]
     },
     "metadata": {},
     "output_type": "display_data"
    }
   ],
   "source": [
    "top_10_countries = trainset['Native_Country'].value_counts().nlargest(10)\n",
    "\n",
    "# Plot a bar chart\n",
    "plt.figure(figsize=(6, 4))\n",
    "top_10_countries.plot(kind='bar', color='skyblue', edgecolor='black')\n",
    "plt.title('Top 10 Native Countries')\n",
    "plt.xlabel('Native Country')\n",
    "plt.ylabel('Count')\n",
    "plt.xticks(rotation=45, ha='right')\n",
    "plt.show()"
   ]
  },
  {
   "cell_type": "markdown",
   "metadata": {},
   "source": [
    "<div dir=\"rtl\">\n",
    "<h4 align=right style=\"font-size: 16;line-height:100%;font-family:vazir;color:pink\">\n",
    "    - \n",
    "نمودار میله ای برای سطح تحصیلات\n",
    "    :</h3>\n",
    "</div>\n",
    "\n",
    "<div dir=\"rtl\">\n",
    "<h5 align=right style=\"font-size: 16;line-height:100%;font-family:vazir;color:pink\">\n",
    "این نمودار به ما کمک میکند توضیع وضعیت تحصیلی در رکوردها را مشاهده کنیم.\n",
    "    همانطور که مشاهده میشود بیشترین درصد متعلق به وضعیت \"فارغ التحصیل از دبیرستان یا همان دیپلم\" و در رتبه دوم \"کمی کالج\" است. \n",
    "</h5>\n",
    "\n",
    "</div>"
   ]
  },
  {
   "cell_type": "code",
   "execution_count": 5,
   "metadata": {},
   "outputs": [
    {
     "data": {
      "image/png": "[encoded data removed]",
      "text/plain": [
       "<Figure size 500x500 with 1 Axes>"
      ]
     },
     "metadata": {},
     "output_type": "display_data"
    }
   ],
   "source": [
    "# Create a pie chart for Education\n",
    "\n",
    "education_counts = trainset['Education'].value_counts()\n",
    "plt.figure(figsize=(5, 5))\n",
    "plt.pie(education_counts, labels=education_counts.index, autopct='%1.1f%%', startangle=0, colors=plt.cm.Paired.colors,textprops={'fontsize': 7})\n",
    "plt.title('Distribution of Education Levels')\n",
    "plt.show()"
   ]
  },
  {
   "cell_type": "markdown",
   "metadata": {},
   "source": [
    "<div dir=\"rtl\">\n",
    "<h4 align=right style=\"font-size: 16;line-height:100%;font-family:vazir;color:pink\">\n",
    "    - \n",
    "نمودار توزیع income بر حسب work class\n",
    "    :</h3>\n",
    "</div>\n",
    "\n",
    "<div dir=\"rtl\">\n",
    "<h5 align=right style=\"font-size: 16;line-height:100%;font-family:vazir;color:pink\">\n",
    "طبق نمودار بیشترین تعداد رکورد متعلق به work class از نوع private است.\n",
    "    علاوه بر این، بیشترین تعداد از هر دو حالت درامد بالای 50k و درامد زیر 50k نیز متعلق به دسته private است.\n",
    "</h5>\n",
    "\n",
    "</div>"
   ]
  },
  {
   "cell_type": "code",
   "execution_count": 6,
   "metadata": {},
   "outputs": [
    {
     "data": {
      "text/plain": [
       "<Figure size 800x400 with 0 Axes>"
      ]
     },
     "metadata": {},
     "output_type": "display_data"
    },
    {
     "data": {
      "image/png": "[encoded data removed]",
      "text/plain": [
       "<Figure size 640x480 with 1 Axes>"
      ]
     },
     "metadata": {},
     "output_type": "display_data"
    }
   ],
   "source": [
    "# Plot a bar for Income Distribution by Work Class\n",
    "\n",
    "contingency_table = pandas.crosstab(trainset['Work_Class'], trainset['Income'])\n",
    "plt.figure(figsize=(8, 4))\n",
    "contingency_table.plot(kind='bar', stacked=True, color=['skyblue', 'lightcoral'], edgecolor='black')\n",
    "plt.title('Income Distribution by Work Class')\n",
    "plt.xlabel('Work Class')\n",
    "plt.ylabel('Count')\n",
    "plt.legend(title='Income', labels=['<=50K', '>50K'])\n",
    "plt.xticks(rotation=45, ha='right')\n",
    "plt.show()\n",
    "\n",
    "import matplotlib.pyplot as plt\n",
    "\n",
    "\n"
   ]
  },
  {
   "cell_type": "markdown",
   "metadata": {},
   "source": [
    "<div dir=\"rtl\">\n",
    "<h4 align=right style=\"font-size: 16;line-height:100%;font-family:vazir;color:pink\">\n",
    "    - \n",
    "نمودار نسبت توزیع income بر حسب work class\n",
    "    :</h3>\n",
    "</div>\n",
    "\n",
    "<div dir=\"rtl\">\n",
    "<h5 align=right style=\"font-size: 16;line-height:150%;font-family:vazir;color:pink\">\n",
    "    در نمودار قبلی تعداد رکورد ها در هر کلاس از work class مشاهده شد.\n",
    "    در این نمودار نسبت ها قابل مشاهده و مقایسه است. به ازای مقادیر مختلف work class مشاده میکنیم چه نسبتی از رکورد ها درآمد بالای 50k داشته اند.\n",
    "    طبق نتایج نمودار، self-emp-not-inc  بیشترین نسبت حقوق بالای 50k به حقوق زیر50k را داشته و در واقع حتی بیشتر از نصف رکورد ها با work class برابر با self-emp-not-inc حقوق بالای 50k داشته اند.\n",
    "</h5>\n",
    "\n",
    "</div>"
   ]
  },
  {
   "cell_type": "code",
   "execution_count": 7,
   "metadata": {},
   "outputs": [
    {
     "data": {
      "text/plain": [
       "<Figure size 1200x600 with 0 Axes>"
      ]
     },
     "metadata": {},
     "output_type": "display_data"
    },
    {
     "data": {
      "image/png": "[encoded data removed]",
      "text/plain": [
       "<Figure size 640x480 with 1 Axes>"
      ]
     },
     "metadata": {},
     "output_type": "display_data"
    }
   ],
   "source": [
    "# Percentage Distribution of Income Levels by Work Class\n",
    "\n",
    "contingency_table = pandas.crosstab(trainset['Work_Class'], trainset['Income'], normalize='index') \n",
    "plt.figure(figsize=(12, 6))\n",
    "contingency_table.plot(kind='bar', stacked=True, color=['skyblue', 'lightcoral'], edgecolor='black')\n",
    "plt.title('Percentage Distribution of Income Levels by Work Class')\n",
    "plt.xlabel('Work Class')\n",
    "plt.ylabel('Percentage')\n",
    "plt.legend(title='Income', labels=['<=50K', '>50K'])\n",
    "plt.xticks(rotation=45, ha='right')\n",
    "plt.show()\n"
   ]
  },
  {
   "cell_type": "markdown",
   "metadata": {},
   "source": [
    "<div dir=\"rtl\">\n",
    "<h4 align=right style=\"font-size: 16;line-height:100%;font-family:vazir;color:pink\">\n",
    "    - \n",
    "box plot سن به income\n",
    "    :</h3>\n",
    "</div>\n",
    "\n",
    "<div dir=\"rtl\">\n",
    "<h5 align=right style=\"font-size: 16;line-height:150%;font-family:vazir;color:pink\">\n",
    "    این نمودار به مقایسه پراکندگی سنهای مختلف با حقوق بالای 50k و زیر 50k میردازد.\n",
    "    همانطور که مشاهده میشود به طور میانگین سن افراد با حقوق بالای 50k بیشتر است و میانه آنها44 سال است در حالی که میانه سن افراد با درامد کمتر از 50k 34 است.\n",
    "    \n",
    "</h5>\n",
    "\n",
    "</div>"
   ]
  },
  {
   "cell_type": "code",
   "execution_count": 8,
   "metadata": {},
   "outputs": [
    {
     "data": {
      "image/png": "[encoded data removed]",
      "text/plain": [
       "<Figure size 500x500 with 1 Axes>"
      ]
     },
     "metadata": {},
     "output_type": "display_data"
    }
   ],
   "source": [
    "# Box plot of age by income\n",
    "\n",
    "trainset['Income'] = trainset['Income'].str.strip()\n",
    "plt.figure(figsize=(5, 5))\n",
    "sns.boxplot(x='Income', y='Age', data=trainset, hue='Income', palette={'<=50K': 'skyblue', '>50K': 'lightcoral'}, dodge=False)\n",
    "plt.title('Box Plot of Age by Income')\n",
    "plt.xlabel('Income')\n",
    "plt.ylabel('Age')\n",
    "plt.text(0, trainset['Age'][trainset['Income'] == '<=50K'].median(), 'Median Age (<=50K): {:.2f}'.format(trainset['Age'][trainset['Income'] == '<=50K'].median()), color='blue')\n",
    "plt.text(1, trainset['Age'][trainset['Income'] == '>50K'].median(), 'Median Age (>50K): {:.2f}'.format(trainset['Age'][trainset['Income'] == '>50K'].median()), color='red')\n",
    "plt.show()"
   ]
  },
  {
   "cell_type": "markdown",
   "metadata": {},
   "source": [
    "\n",
    "---\n"
   ]
  },
  {
   "cell_type": "markdown",
   "metadata": {},
   "source": [
    "<div dir=\"rtl\">\n",
    "<h3 align=right style=\"font-size: 16;line-height:100%;font-family:vazir;color:white\">\n",
    "پیش پردازش داده\n",
    "</h3>\n",
    "</div>\n",
    "<div dir=\"rtl\">\n",
    "<p align=right style=\"font-size: 16;line-height:100%;font-family:vazir;color:white\">\n",
    "در این بخش با روش های مختلف داده هارا پردازش کرده و تغییرات لازم را روی داده لحاظ کرده تا دقت نهایی افزایش یابد.\n",
    "</p>\n",
    "</div>"
   ]
  },
  {
   "cell_type": "markdown",
   "metadata": {},
   "source": [
    "\n",
    "<h3 align=right style=\"font-size: 16;line-height:100%;font-family:vazir;color:yellow\">\n",
    "    Missing Values\n",
    "</h3>\n"
   ]
  },
  {
   "cell_type": "markdown",
   "metadata": {},
   "source": [
    "\n",
    "<h5 align=right style=\"font-size: 16;line-height:100%;font-family:vazir;color:pink\">\n",
    "داده های از دست رفته با مقدار ؟ مشخص شده اند. فیچرهایی که رکوردها در آن ؟ هستند میابیم و سپس بر حسب تعداد ؟ تصمیم میگیریم آن فیچر را حذف کنیم یا آن رکورد را حذف کنیم یا مقدار از دست رفته را مقداردهی کنیم</h5>\n"
   ]
  },
  {
   "cell_type": "code",
   "execution_count": 6,
   "metadata": {},
   "outputs": [
    {
     "name": "stdout",
     "output_type": "stream",
     "text": [
      "Count of '?' in each column:\n",
      "Age                    0\n",
      "Work_Class          1836\n",
      "Final_Weight           0\n",
      "Education              0\n",
      "Education-Number       0\n",
      "Marital_Status         0\n",
      "Occupation          1843\n",
      "Relationship           0\n",
      "Race                   0\n",
      "Sex                    0\n",
      "Capital_Gain           0\n",
      "Capital_Loss           0\n",
      "Hours-Per-Week         0\n",
      "Native_Country       583\n",
      "Income                 0\n",
      "dtype: int64\n"
     ]
    }
   ],
   "source": [
    "\n",
    "question_mark_counts = trainset[trainset == \" ?\"].count()\n",
    "\n",
    "# Display the counts\n",
    "print(\"Count of '?' in each column:\")\n",
    "print(question_mark_counts)\n"
   ]
  },
  {
   "cell_type": "markdown",
   "metadata": {},
   "source": [
    "<div dir=\"rtl\">\n",
    "\n",
    "<h5 align=right style=\"font-size: 16;line-height:150%;font-family:vazir;color:pink\">\n",
    "با توجه به اینکه فیچرهای occupation و work class به هم مرتبطند، احتمال میدهیم رکوردهای زیادی باشند که هردوی این فیچر ها را miss کرده باشند.\n",
    "    بررسی میکنیم و میبینیم همه رکوردهایی که در work class مقداری ندارند، در occupation نیز مقداری ندارند.\n",
    "    \n",
    "</h5>\n",
    "<h5 align=right style=\"font-size: 16;line-height:150%;font-family:vazir;color:pink\">\n",
    "رکورد های با occupation == ?  را حذف میکنیم.\n",
    "\n",
    "    \n",
    "</h5>\n",
    "</div>"
   ]
  },
  {
   "cell_type": "code",
   "execution_count": 13,
   "metadata": {},
   "outputs": [
    {
     "name": "stdout",
     "output_type": "stream",
     "text": [
      "Number of records after removing '?' in Occupation: 30718\n"
     ]
    }
   ],
   "source": [
    "intersection_count = trainset[(trainset['Occupation'] == \" ?\") & (trainset['Work_Class'] == \" ?\")].count()\n",
    "intersection_count\n",
    "\n",
    "# removing records with occupation == ? and work class ==?\n",
    "trainset = trainset[trainset['Occupation'] != \" ?\"]\n",
    "print(\"Number of records after removing '?' in Occupation:\", len(trainset))\n"
   ]
  },
  {
   "cell_type": "markdown",
   "metadata": {},
   "source": [
    "<div dir=\"rtl\">\n",
    "\n",
    "<h5 align=right style=\"font-size: 16;line-height:150%;font-family:vazir;color:pink\">\n",
    "در بخش مصورسازی دیدیم اکثر رکورد ها متعلق به United States هستند.\n",
    "با توجه به این موضوع، برای رکوردهایی که Native_Country شان miss شده نیز آنرا برابر با Uinted States قرار میدهیم.\n",
    "    \n",
    "</h5>\n",
    "\n",
    "</div>"
   ]
  },
  {
   "cell_type": "code",
   "execution_count": 14,
   "metadata": {},
   "outputs": [],
   "source": [
    "# Assuming 'trainset' is your DataFrame\n",
    "trainset.loc[trainset['Native_Country'] == \" ?\", 'Native_Country'] = \" United-States\"\n"
   ]
  },
  {
   "cell_type": "markdown",
   "metadata": {},
   "source": [
    "<h3 align=right style=\"font-size: 16;line-height:100%;font-family:vazir;color:yellow\">\n",
    "    Encoding Features\n",
    "</h3>\n"
   ]
  },
  {
   "cell_type": "markdown",
   "metadata": {},
   "source": [
    "<div dir=\"rtl\">\n",
    "\n",
    "<h5 align=right style=\"font-size: 16;line-height:150%;font-family:vazir;color:pink\">\n",
    "دو روش encoding وجود دارد.\n",
    "    <br/>\n",
    "    - one-hot-encoding\n",
    "    <br/>\n",
    "    -label-encoding\n",
    "    <br/>\n",
    "    در روش label encoding به ازای هر مقدار کتگوریکال از فیلد، یک integer به آن map میشود. مزیت آن اینست که فیچر جدیدی به دیتاست اضافه نمیشود اما عیب آن اینست به طور ناخودآگاه یک ordering وارد آن فیچر میشود که لزوما به آن نیاز نداریم.\n",
    "    <br/>\n",
    "    one-hot-encoding به ازای هر مقدار از داده کتگوریکال، یک ستون جدید اضافه میکند که مقدار آن بولی یعنی 0 یا 1 است و نشان میدهد هر رکورد مقدار داده کتگوریکالش آن label هست یا خیر.\n",
    "    این روش خوانایی بیشتری دارد اما به فیچر ها به شدت اضافه میکند و باعث تنکی نیز میشود چون ممکن است یک label صرفا در یک رکورد امده باشد در نتیجه مقدار آن  به ازای همه رکورد ها 0 میشود جز یکی.\n",
    "    در ضمن افزایش تعداد فیچر ها در train کردن نتیجه مناسبی ندارد.\n",
    "    <br/>\n",
    "    در دیتاست ما فیچر هایی مثل country مقادیر متنوعی دارند و اگر بخواهیم از one-hot-encoding استفاده کنیم تعداد فیچرها خیلی زیاد میشود بنابراین encoding ما به روش label-encoding صورت میگیرد.\n",
    "</h5>\n",
    "\n",
    "</div>"
   ]
  },
  {
   "cell_type": "markdown",
   "metadata": {},
   "source": [
    "<div dir=\"rtl\">\n",
    "\n",
    "<h5 align=right style=\"font-size: 16;line-height:150%;font-family:vazir;color:pink\">\n",
    "اکثر ستونهای داده categorical هستند.\n",
    "با استفاده از تابع fit_transform از کتابخانه sklearn انکودینگ به روش label encoding را انجام میدهیم.\n",
    "    \n",
    "</h5>\n",
    "\n",
    "</div>"
   ]
  },
  {
   "cell_type": "code",
   "execution_count": 15,
   "metadata": {},
   "outputs": [
    {
     "data": {
      "text/html": [
       "<div>\n",
       "<style scoped>\n",
       "    .dataframe tbody tr th:only-of-type {\n",
       "        vertical-align: middle;\n",
       "    }\n",
       "\n",
       "    .dataframe tbody tr th {\n",
       "        vertical-align: top;\n",
       "    }\n",
       "\n",
       "    .dataframe thead th {\n",
       "        text-align: right;\n",
       "    }\n",
       "</style>\n",
       "<table border=\"1\" class=\"dataframe\">\n",
       "  <thead>\n",
       "    <tr style=\"text-align: right;\">\n",
       "      <th></th>\n",
       "      <th>Age</th>\n",
       "      <th>Work_Class</th>\n",
       "      <th>Final_Weight</th>\n",
       "      <th>Education</th>\n",
       "      <th>Education-Number</th>\n",
       "      <th>Marital_Status</th>\n",
       "      <th>Occupation</th>\n",
       "      <th>Relationship</th>\n",
       "      <th>Race</th>\n",
       "      <th>Sex</th>\n",
       "      <th>Capital_Gain</th>\n",
       "      <th>Capital_Loss</th>\n",
       "      <th>Hours-Per-Week</th>\n",
       "      <th>Native_Country</th>\n",
       "      <th>Income</th>\n",
       "    </tr>\n",
       "  </thead>\n",
       "  <tbody>\n",
       "    <tr>\n",
       "      <th>0</th>\n",
       "      <td>39</td>\n",
       "      <td>5</td>\n",
       "      <td>77516</td>\n",
       "      <td>9</td>\n",
       "      <td>13</td>\n",
       "      <td>4</td>\n",
       "      <td>0</td>\n",
       "      <td>1</td>\n",
       "      <td>4</td>\n",
       "      <td>1</td>\n",
       "      <td>2174</td>\n",
       "      <td>0</td>\n",
       "      <td>40</td>\n",
       "      <td>38</td>\n",
       "      <td>0</td>\n",
       "    </tr>\n",
       "    <tr>\n",
       "      <th>1</th>\n",
       "      <td>50</td>\n",
       "      <td>4</td>\n",
       "      <td>83311</td>\n",
       "      <td>9</td>\n",
       "      <td>13</td>\n",
       "      <td>2</td>\n",
       "      <td>3</td>\n",
       "      <td>0</td>\n",
       "      <td>4</td>\n",
       "      <td>1</td>\n",
       "      <td>0</td>\n",
       "      <td>0</td>\n",
       "      <td>13</td>\n",
       "      <td>38</td>\n",
       "      <td>0</td>\n",
       "    </tr>\n",
       "    <tr>\n",
       "      <th>2</th>\n",
       "      <td>38</td>\n",
       "      <td>2</td>\n",
       "      <td>215646</td>\n",
       "      <td>11</td>\n",
       "      <td>9</td>\n",
       "      <td>0</td>\n",
       "      <td>5</td>\n",
       "      <td>1</td>\n",
       "      <td>4</td>\n",
       "      <td>1</td>\n",
       "      <td>0</td>\n",
       "      <td>0</td>\n",
       "      <td>40</td>\n",
       "      <td>38</td>\n",
       "      <td>0</td>\n",
       "    </tr>\n",
       "    <tr>\n",
       "      <th>3</th>\n",
       "      <td>53</td>\n",
       "      <td>2</td>\n",
       "      <td>234721</td>\n",
       "      <td>1</td>\n",
       "      <td>7</td>\n",
       "      <td>2</td>\n",
       "      <td>5</td>\n",
       "      <td>0</td>\n",
       "      <td>2</td>\n",
       "      <td>1</td>\n",
       "      <td>0</td>\n",
       "      <td>0</td>\n",
       "      <td>40</td>\n",
       "      <td>38</td>\n",
       "      <td>0</td>\n",
       "    </tr>\n",
       "    <tr>\n",
       "      <th>4</th>\n",
       "      <td>28</td>\n",
       "      <td>2</td>\n",
       "      <td>338409</td>\n",
       "      <td>9</td>\n",
       "      <td>13</td>\n",
       "      <td>2</td>\n",
       "      <td>9</td>\n",
       "      <td>5</td>\n",
       "      <td>2</td>\n",
       "      <td>0</td>\n",
       "      <td>0</td>\n",
       "      <td>0</td>\n",
       "      <td>40</td>\n",
       "      <td>4</td>\n",
       "      <td>0</td>\n",
       "    </tr>\n",
       "    <tr>\n",
       "      <th>...</th>\n",
       "      <td>...</td>\n",
       "      <td>...</td>\n",
       "      <td>...</td>\n",
       "      <td>...</td>\n",
       "      <td>...</td>\n",
       "      <td>...</td>\n",
       "      <td>...</td>\n",
       "      <td>...</td>\n",
       "      <td>...</td>\n",
       "      <td>...</td>\n",
       "      <td>...</td>\n",
       "      <td>...</td>\n",
       "      <td>...</td>\n",
       "      <td>...</td>\n",
       "      <td>...</td>\n",
       "    </tr>\n",
       "    <tr>\n",
       "      <th>32556</th>\n",
       "      <td>27</td>\n",
       "      <td>2</td>\n",
       "      <td>257302</td>\n",
       "      <td>7</td>\n",
       "      <td>12</td>\n",
       "      <td>2</td>\n",
       "      <td>12</td>\n",
       "      <td>5</td>\n",
       "      <td>4</td>\n",
       "      <td>0</td>\n",
       "      <td>0</td>\n",
       "      <td>0</td>\n",
       "      <td>38</td>\n",
       "      <td>38</td>\n",
       "      <td>0</td>\n",
       "    </tr>\n",
       "    <tr>\n",
       "      <th>32557</th>\n",
       "      <td>40</td>\n",
       "      <td>2</td>\n",
       "      <td>154374</td>\n",
       "      <td>11</td>\n",
       "      <td>9</td>\n",
       "      <td>2</td>\n",
       "      <td>6</td>\n",
       "      <td>0</td>\n",
       "      <td>4</td>\n",
       "      <td>1</td>\n",
       "      <td>0</td>\n",
       "      <td>0</td>\n",
       "      <td>40</td>\n",
       "      <td>38</td>\n",
       "      <td>1</td>\n",
       "    </tr>\n",
       "    <tr>\n",
       "      <th>32558</th>\n",
       "      <td>58</td>\n",
       "      <td>2</td>\n",
       "      <td>151910</td>\n",
       "      <td>11</td>\n",
       "      <td>9</td>\n",
       "      <td>6</td>\n",
       "      <td>0</td>\n",
       "      <td>4</td>\n",
       "      <td>4</td>\n",
       "      <td>0</td>\n",
       "      <td>0</td>\n",
       "      <td>0</td>\n",
       "      <td>40</td>\n",
       "      <td>38</td>\n",
       "      <td>0</td>\n",
       "    </tr>\n",
       "    <tr>\n",
       "      <th>32559</th>\n",
       "      <td>22</td>\n",
       "      <td>2</td>\n",
       "      <td>201490</td>\n",
       "      <td>11</td>\n",
       "      <td>9</td>\n",
       "      <td>4</td>\n",
       "      <td>0</td>\n",
       "      <td>3</td>\n",
       "      <td>4</td>\n",
       "      <td>1</td>\n",
       "      <td>0</td>\n",
       "      <td>0</td>\n",
       "      <td>20</td>\n",
       "      <td>38</td>\n",
       "      <td>0</td>\n",
       "    </tr>\n",
       "    <tr>\n",
       "      <th>32560</th>\n",
       "      <td>52</td>\n",
       "      <td>3</td>\n",
       "      <td>287927</td>\n",
       "      <td>11</td>\n",
       "      <td>9</td>\n",
       "      <td>2</td>\n",
       "      <td>3</td>\n",
       "      <td>5</td>\n",
       "      <td>4</td>\n",
       "      <td>0</td>\n",
       "      <td>15024</td>\n",
       "      <td>0</td>\n",
       "      <td>40</td>\n",
       "      <td>38</td>\n",
       "      <td>1</td>\n",
       "    </tr>\n",
       "  </tbody>\n",
       "</table>\n",
       "<p>30718 rows × 15 columns</p>\n",
       "</div>"
      ],
      "text/plain": [
       "       Age Work_Class  Final_Weight Education  Education-Number  \\\n",
       "0       39          5         77516         9                13   \n",
       "1       50          4         83311         9                13   \n",
       "2       38          2        215646        11                 9   \n",
       "3       53          2        234721         1                 7   \n",
       "4       28          2        338409         9                13   \n",
       "...    ...        ...           ...       ...               ...   \n",
       "32556   27          2        257302         7                12   \n",
       "32557   40          2        154374        11                 9   \n",
       "32558   58          2        151910        11                 9   \n",
       "32559   22          2        201490        11                 9   \n",
       "32560   52          3        287927        11                 9   \n",
       "\n",
       "      Marital_Status Occupation Relationship Race Sex  Capital_Gain  \\\n",
       "0                  4          0            1    4   1          2174   \n",
       "1                  2          3            0    4   1             0   \n",
       "2                  0          5            1    4   1             0   \n",
       "3                  2          5            0    2   1             0   \n",
       "4                  2          9            5    2   0             0   \n",
       "...              ...        ...          ...  ...  ..           ...   \n",
       "32556              2         12            5    4   0             0   \n",
       "32557              2          6            0    4   1             0   \n",
       "32558              6          0            4    4   0             0   \n",
       "32559              4          0            3    4   1             0   \n",
       "32560              2          3            5    4   0         15024   \n",
       "\n",
       "       Capital_Loss  Hours-Per-Week Native_Country Income  \n",
       "0                 0              40             38      0  \n",
       "1                 0              13             38      0  \n",
       "2                 0              40             38      0  \n",
       "3                 0              40             38      0  \n",
       "4                 0              40              4      0  \n",
       "...             ...             ...            ...    ...  \n",
       "32556             0              38             38      0  \n",
       "32557             0              40             38      1  \n",
       "32558             0              40             38      0  \n",
       "32559             0              20             38      0  \n",
       "32560             0              40             38      1  \n",
       "\n",
       "[30718 rows x 15 columns]"
      ]
     },
     "execution_count": 15,
     "metadata": {},
     "output_type": "execute_result"
    }
   ],
   "source": [
    "categorical_columns = trainset.select_dtypes(include=['object']).columns\n",
    "\n",
    "# Apply label encoding\n",
    "label_encoder = LabelEncoder()\n",
    "for column in categorical_columns:\n",
    "    trainset.loc[:, column] = label_encoder.fit_transform(trainset[column])\n",
    "trainset"
   ]
  },
  {
   "cell_type": "markdown",
   "metadata": {},
   "source": [
    "\n",
    "---\n"
   ]
  },
  {
   "cell_type": "markdown",
   "metadata": {},
   "source": [
    "<div dir=\"rtl\">\n",
    "<h2 align=right style=\"font-size: 16;line-height:100%;font-family:vazir;color:white\">\n",
    "آموزش مدل با روش های مختلف\n",
    "</h2>\n",
    "</div>\n",
    "<div dir=\"rtl\">\n",
    "<div dir=\"rtl\">\n",
    "<p align=right style=\"font-size: 16;line-height:100%;font-family:vazir;color:white\">\n",
    "دﺭ ﺁﻣﻮﺯﺵ ﻫﺮ ﻣﺪﻝ ، ﺩﺭ ﺻﻮﺭﺕ ﺗﻨﻈﻴﻢ ﻫﺎﻳﭙﺮﭘﺎﺭﺍﻣﺘﺮﻫﺎﻱ ﻣﺪﻝ ﺩﺭ ﻛﺘﺎﺑﺨﺎﻧﻪ sklearn، ﺩﻻﻳﻞ ﺍﻳﻦ ﺍﻧﺘﺨﺎﺏ ﻫﺎ ﻭ ﺗﺤﻠﻴﻞ\n",
    "ﺧﻮﺩﺗﺎﻥ ﺭﺍ ﺍﺯ ﻧﺘﺎﻳﺢ ﺣﺎﺻﻞ ﺷﺪﻩ، ﮔﺰﺍﺭﺵ ﺩﻫﻴﺪ.</p>\n",
    "</div>\n"
   ]
  },
  {
   "cell_type": "code",
   "execution_count": 17,
   "metadata": {},
   "outputs": [],
   "source": [
    "testset = pandas.read_csv('Adult_TestDataset.csv')\n",
    "categorical_columns = testset.select_dtypes(include=['object']).columns\n",
    "\n",
    "for column in categorical_columns:\n",
    "    testset[column] = label_encoder.fit_transform(testset[column])\n",
    "\n",
    "scaler = MinMaxScaler()\n",
    "trainset_normalized = pandas.DataFrame(scaler.fit_transform(trainset), columns=trainset.columns)\n",
    "testset_normalized = pandas.DataFrame(scaler.fit_transform(testset), columns=testset.columns)\n",
    "X_train = trainset_normalized.drop('Income', axis=1)  # Assuming 'Income' is the target variable\n",
    "y_train = trainset_normalized['Income']\n",
    "\n",
    "# Separate features (X) and target variable (y) for test set\n",
    "X_test = testset_normalized.drop('Income', axis=1)\n",
    "y_test = testset_normalized['Income']\n"
   ]
  },
  {
   "cell_type": "markdown",
   "metadata": {},
   "source": [
    "<div dir=\"rtl\" >\n",
    "<h5 align=right dir=\"rtl\" style=\"font-size: 16px;line-height:150%;font-family:vazir;color:pink\">\n",
    "در این بخش داده های تست را میخوانیم و در testset ذخیره میکنیم.\n",
    "<br/>\n",
    "\r\n",
    "نرمال‌سازی با استفاده از`MinMaxScale` یک فرآیند مهم در پیش‌پردازش داده است که هدف آن تبدیل متغیرهای عددی به یک محدوده مشخص، معمولاً از ۰ تا ۱، می‌باشد. این محدوده نرمال‌سازی به ما کمک می‌کند تا مقیاس‌های مختلف متغیرها تطبیق داده شده و تأثیر نوسانات مقیاس بر روی مدل‌های آموزش داده شده را کاهش دهیم.\r\n",
    "\r\n",
    "برای انجام نرمال‌سازی ا `MinMaxScaer`، ابتدا یک شئ از این کلاس ایجاد می‌کنیم و محدوده مطلوپیشفرضال، از ۰ تا ۱) را تعیین می‌کنیم. سپس با استفاده از داده‌های آموزش، این شئ را آموزش داده و مقادیر اولیه مورد نیاز را بدست می‌آوریم. در نهایت، می‌توانیم همین مدل را بر روی داده‌های تست نیز استفاده کنیم تا مقادیر آن‌ها نیز به مقادیر نرمال‌شده تبدیل شوند.\r\n",
    "\r\n",
    "با انجام این فرآیند، ما می‌توانیم از تغییرات مقیاس بزرگ بین ویژگی‌ها جلوگیری کنیم و دقت و عملکرد مدل‌های آموزش داده شده را بهبود بخشیم. نرمال‌ساز با `MinMaxSaler` مخصوصاً در الگوریتم‌هایی که به مقیاس داده‌ها حساس هستند (مانند الگوریتم‌های کمترین مربعات) بسیار حیاتی است.\n",
    "\n",
    "</h5>\n",
    "</div>\n",
    "\n"
   ]
  },
  {
   "cell_type": "markdown",
   "metadata": {},
   "source": [
    "<div dir=\"rtl\">\n",
    "<h3 align=right style=\"font-size: 16;line-height:100%;font-family:times new roman;color:white\">\n",
    "Support Vector Machine\n",
    "</h3>\n",
    "</div>\n",
    "<div dir=\"rtl\">\n",
    "<p align=right style=\"font-size: 16;line-height:100%;font-family:vazir;color:white\">\n",
    "در این قسمت مدل خود را با استفاده از Support Vector Machine آموزش دهید.\n",
    "</p>\n",
    "</div>"
   ]
  },
  {
   "cell_type": "code",
   "execution_count": 18,
   "metadata": {},
   "outputs": [
    {
     "data": {
      "text/html": [
       "<style>#sk-container-id-1 {color: black;}#sk-container-id-1 pre{padding: 0;}#sk-container-id-1 div.sk-toggleable {background-color: white;}#sk-container-id-1 label.sk-toggleable__label {cursor: pointer;display: block;width: 100%;margin-bottom: 0;padding: 0.3em;box-sizing: border-box;text-align: center;}#sk-container-id-1 label.sk-toggleable__label-arrow:before {content: \"▸\";float: left;margin-right: 0.25em;color: #696969;}#sk-container-id-1 label.sk-toggleable__label-arrow:hover:before {color: black;}#sk-container-id-1 div.sk-estimator:hover label.sk-toggleable__label-arrow:before {color: black;}#sk-container-id-1 div.sk-toggleable__content {max-height: 0;max-width: 0;overflow: hidden;text-align: left;background-color: #f0f8ff;}#sk-container-id-1 div.sk-toggleable__content pre {margin: 0.2em;color: black;border-radius: 0.25em;background-color: #f0f8ff;}#sk-container-id-1 input.sk-toggleable__control:checked~div.sk-toggleable__content {max-height: 200px;max-width: 100%;overflow: auto;}#sk-container-id-1 input.sk-toggleable__control:checked~label.sk-toggleable__label-arrow:before {content: \"▾\";}#sk-container-id-1 div.sk-estimator input.sk-toggleable__control:checked~label.sk-toggleable__label {background-color: #d4ebff;}#sk-container-id-1 div.sk-label input.sk-toggleable__control:checked~label.sk-toggleable__label {background-color: #d4ebff;}#sk-container-id-1 input.sk-hidden--visually {border: 0;clip: rect(1px 1px 1px 1px);clip: rect(1px, 1px, 1px, 1px);height: 1px;margin: -1px;overflow: hidden;padding: 0;position: absolute;width: 1px;}#sk-container-id-1 div.sk-estimator {font-family: monospace;background-color: #f0f8ff;border: 1px dotted black;border-radius: 0.25em;box-sizing: border-box;margin-bottom: 0.5em;}#sk-container-id-1 div.sk-estimator:hover {background-color: #d4ebff;}#sk-container-id-1 div.sk-parallel-item::after {content: \"\";width: 100%;border-bottom: 1px solid gray;flex-grow: 1;}#sk-container-id-1 div.sk-label:hover label.sk-toggleable__label {background-color: #d4ebff;}#sk-container-id-1 div.sk-serial::before {content: \"\";position: absolute;border-left: 1px solid gray;box-sizing: border-box;top: 0;bottom: 0;left: 50%;z-index: 0;}#sk-container-id-1 div.sk-serial {display: flex;flex-direction: column;align-items: center;background-color: white;padding-right: 0.2em;padding-left: 0.2em;position: relative;}#sk-container-id-1 div.sk-item {position: relative;z-index: 1;}#sk-container-id-1 div.sk-parallel {display: flex;align-items: stretch;justify-content: center;background-color: white;position: relative;}#sk-container-id-1 div.sk-item::before, #sk-container-id-1 div.sk-parallel-item::before {content: \"\";position: absolute;border-left: 1px solid gray;box-sizing: border-box;top: 0;bottom: 0;left: 50%;z-index: -1;}#sk-container-id-1 div.sk-parallel-item {display: flex;flex-direction: column;z-index: 1;position: relative;background-color: white;}#sk-container-id-1 div.sk-parallel-item:first-child::after {align-self: flex-end;width: 50%;}#sk-container-id-1 div.sk-parallel-item:last-child::after {align-self: flex-start;width: 50%;}#sk-container-id-1 div.sk-parallel-item:only-child::after {width: 0;}#sk-container-id-1 div.sk-dashed-wrapped {border: 1px dashed gray;margin: 0 0.4em 0.5em 0.4em;box-sizing: border-box;padding-bottom: 0.4em;background-color: white;}#sk-container-id-1 div.sk-label label {font-family: monospace;font-weight: bold;display: inline-block;line-height: 1.2em;}#sk-container-id-1 div.sk-label-container {text-align: center;}#sk-container-id-1 div.sk-container {/* jupyter's `normalize.less` sets `[hidden] { display: none; }` but bootstrap.min.css set `[hidden] { display: none !important; }` so we also need the `!important` here to be able to override the default hidden behavior on the sphinx rendered scikit-learn.org. See: https://github.com/scikit-learn/scikit-learn/issues/21755 */display: inline-block !important;position: relative;}#sk-container-id-1 div.sk-text-repr-fallback {display: none;}</style><div id=\"sk-container-id-1\" class=\"sk-top-container\"><div class=\"sk-text-repr-fallback\"><pre>SVC(C=1, kernel=&#x27;poly&#x27;, random_state=44)</pre><b>In a Jupyter environment, please rerun this cell to show the HTML representation or trust the notebook. <br />On GitHub, the HTML representation is unable to render, please try loading this page with nbviewer.org.</b></div><div class=\"sk-container\" hidden><div class=\"sk-item\"><div class=\"sk-estimator sk-toggleable\"><input class=\"sk-toggleable__control sk-hidden--visually\" id=\"sk-estimator-id-1\" type=\"checkbox\" checked><label for=\"sk-estimator-id-1\" class=\"sk-toggleable__label sk-toggleable__label-arrow\">SVC</label><div class=\"sk-toggleable__content\"><pre>SVC(C=1, kernel=&#x27;poly&#x27;, random_state=44)</pre></div></div></div></div></div>"
      ],
      "text/plain": [
       "SVC(C=1, kernel='poly', random_state=44)"
      ]
     },
     "execution_count": 18,
     "metadata": {},
     "output_type": "execute_result"
    }
   ],
   "source": [
    "from sklearn.metrics import accuracy_score, classification_report, confusion_matrix\n",
    "\n",
    "svm_model = SVC(kernel='poly', C=1, random_state=44)\n",
    "\n",
    "svm_model.fit(X_train, y_train)\n"
   ]
  },
  {
   "cell_type": "markdown",
   "metadata": {},
   "source": [
    "<div dir=\"rtl\">\n",
    "\n",
    "<h5 align=right style=\"font-size: 16;line-height:150%;foمله‌ای، تنظیمات متعادل رégularization و با تعداد تصادفی ثابت ایجاد شده است. می‌توان توسط آزمون و خطا یا از روش‌های بهینه‌سازی پیشرفته‌تر برای تنظیم این پارامترها برای داده‌های خاص خود استفاده کرد.\n",
    "    \n",
    "</h5>\n",
    "\n",
    "</div>"
   ]
  },
  {
   "cell_type": "markdown",
   "metadata": {},
   "source": [
    "<div dir=\"rtl\" >\n",
    "<h5 align=right style=\"font-size: 16px;line-height:150%;font-family:vazir;color:pink\">\n",
    " توضیحات برای انتخاب پارامترها در مدل SVM\n",
    "    <br/>   -\n",
    "    پارامتر  kernelنشان‌دهنده نوع هسته استفاده شده در SVM است. با انتخاب 'poly'، از هسته چندجمله‌ای برای مدل‌سازی ارتباطات غیرخطی در داده‌ها استفاده می‌شود.\n",
    "        <br/>\r\n",
    "  - پارامتر C  نشان‌دهنده میزان regularization یا تنظیم میزان مجاز خطا در مدل است. با انتخاب مقدار ۱، تعادل بین دقت در داده‌های آموزشی و دقت در داده‌های تست حفظ می‌شود\n",
    "         <br/>.\r\n",
    "  - پارامتر random_state نقطه شروع برای تولید اعداد تصادفی در مدل است. با تنظیم `random_state` به مقدار ۴۴، اطمینان حاصل می‌شود که در هر اجرا، ترتیب تولید اعداد تصادفی یکسان خواهد بود و نتایج قابل دیگران بازتولید می‌شود.\r\n",
    "\n",
    "\n",
    "</h5>\n",
    "</div>\n",
    "\n"
   ]
  },
  {
   "cell_type": "markdown",
   "metadata": {},
   "source": [
    "<div dir=\"rtl\">\n",
    "<h3 align=right style=\"font-size: 16;line-height:100%;font-family:times new roman;color:white\">\n",
    "K-Nearest Neighbors</h3>\n",
    "</div>\n",
    "<div dir=\"rtl\">\n",
    "<p align=right style=\"font-size: 16;line-height:100%;font-family:vazir;color:white\">\n",
    "در این قسمت مدل خود را با استفاده از KNeighborsClassifier آموزش دهید.\n",
    "</p>\n",
    "</div>"
   ]
  },
  {
   "cell_type": "code",
   "execution_count": 19,
   "metadata": {},
   "outputs": [
    {
     "data": {
      "text/html": [
       "<style>#sk-container-id-2 {color: black;}#sk-container-id-2 pre{padding: 0;}#sk-container-id-2 div.sk-toggleable {background-color: white;}#sk-container-id-2 label.sk-toggleable__label {cursor: pointer;display: block;width: 100%;margin-bottom: 0;padding: 0.3em;box-sizing: border-box;text-align: center;}#sk-container-id-2 label.sk-toggleable__label-arrow:before {content: \"▸\";float: left;margin-right: 0.25em;color: #696969;}#sk-container-id-2 label.sk-toggleable__label-arrow:hover:before {color: black;}#sk-container-id-2 div.sk-estimator:hover label.sk-toggleable__label-arrow:before {color: black;}#sk-container-id-2 div.sk-toggleable__content {max-height: 0;max-width: 0;overflow: hidden;text-align: left;background-color: #f0f8ff;}#sk-container-id-2 div.sk-toggleable__content pre {margin: 0.2em;color: black;border-radius: 0.25em;background-color: #f0f8ff;}#sk-container-id-2 input.sk-toggleable__control:checked~div.sk-toggleable__content {max-height: 200px;max-width: 100%;overflow: auto;}#sk-container-id-2 input.sk-toggleable__control:checked~label.sk-toggleable__label-arrow:before {content: \"▾\";}#sk-container-id-2 div.sk-estimator input.sk-toggleable__control:checked~label.sk-toggleable__label {background-color: #d4ebff;}#sk-container-id-2 div.sk-label input.sk-toggleable__control:checked~label.sk-toggleable__label {background-color: #d4ebff;}#sk-container-id-2 input.sk-hidden--visually {border: 0;clip: rect(1px 1px 1px 1px);clip: rect(1px, 1px, 1px, 1px);height: 1px;margin: -1px;overflow: hidden;padding: 0;position: absolute;width: 1px;}#sk-container-id-2 div.sk-estimator {font-family: monospace;background-color: #f0f8ff;border: 1px dotted black;border-radius: 0.25em;box-sizing: border-box;margin-bottom: 0.5em;}#sk-container-id-2 div.sk-estimator:hover {background-color: #d4ebff;}#sk-container-id-2 div.sk-parallel-item::after {content: \"\";width: 100%;border-bottom: 1px solid gray;flex-grow: 1;}#sk-container-id-2 div.sk-label:hover label.sk-toggleable__label {background-color: #d4ebff;}#sk-container-id-2 div.sk-serial::before {content: \"\";position: absolute;border-left: 1px solid gray;box-sizing: border-box;top: 0;bottom: 0;left: 50%;z-index: 0;}#sk-container-id-2 div.sk-serial {display: flex;flex-direction: column;align-items: center;background-color: white;padding-right: 0.2em;padding-left: 0.2em;position: relative;}#sk-container-id-2 div.sk-item {position: relative;z-index: 1;}#sk-container-id-2 div.sk-parallel {display: flex;align-items: stretch;justify-content: center;background-color: white;position: relative;}#sk-container-id-2 div.sk-item::before, #sk-container-id-2 div.sk-parallel-item::before {content: \"\";position: absolute;border-left: 1px solid gray;box-sizing: border-box;top: 0;bottom: 0;left: 50%;z-index: -1;}#sk-container-id-2 div.sk-parallel-item {display: flex;flex-direction: column;z-index: 1;position: relative;background-color: white;}#sk-container-id-2 div.sk-parallel-item:first-child::after {align-self: flex-end;width: 50%;}#sk-container-id-2 div.sk-parallel-item:last-child::after {align-self: flex-start;width: 50%;}#sk-container-id-2 div.sk-parallel-item:only-child::after {width: 0;}#sk-container-id-2 div.sk-dashed-wrapped {border: 1px dashed gray;margin: 0 0.4em 0.5em 0.4em;box-sizing: border-box;padding-bottom: 0.4em;background-color: white;}#sk-container-id-2 div.sk-label label {font-family: monospace;font-weight: bold;display: inline-block;line-height: 1.2em;}#sk-container-id-2 div.sk-label-container {text-align: center;}#sk-container-id-2 div.sk-container {/* jupyter's `normalize.less` sets `[hidden] { display: none; }` but bootstrap.min.css set `[hidden] { display: none !important; }` so we also need the `!important` here to be able to override the default hidden behavior on the sphinx rendered scikit-learn.org. See: https://github.com/scikit-learn/scikit-learn/issues/21755 */display: inline-block !important;position: relative;}#sk-container-id-2 div.sk-text-repr-fallback {display: none;}</style><div id=\"sk-container-id-2\" class=\"sk-top-container\"><div class=\"sk-text-repr-fallback\"><pre>KNeighborsClassifier(n_neighbors=60)</pre><b>In a Jupyter environment, please rerun this cell to show the HTML representation or trust the notebook. <br />On GitHub, the HTML representation is unable to render, please try loading this page with nbviewer.org.</b></div><div class=\"sk-container\" hidden><div class=\"sk-item\"><div class=\"sk-estimator sk-toggleable\"><input class=\"sk-toggleable__control sk-hidden--visually\" id=\"sk-estimator-id-2\" type=\"checkbox\" checked><label for=\"sk-estimator-id-2\" class=\"sk-toggleable__label sk-toggleable__label-arrow\">KNeighborsClassifier</label><div class=\"sk-toggleable__content\"><pre>KNeighborsClassifier(n_neighbors=60)</pre></div></div></div></div></div>"
      ],
      "text/plain": [
       "KNeighborsClassifier(n_neighbors=60)"
      ]
     },
     "execution_count": 19,
     "metadata": {},
     "output_type": "execute_result"
    }
   ],
   "source": [
    "from sklearn.metrics import accuracy_score, classification_report, confusion_matrix\n",
    "\n",
    "knn_model = KNeighborsClassifier(n_neighbors=60)  # You can adjust the number of neighbors (k) as needed\n",
    "\n",
    "# Train the KNN model on the training set\n",
    "knn_model.fit(X_train, y_train)\n"
   ]
  },
  {
   "cell_type": "markdown",
   "metadata": {},
   "source": [
    "<div dir=\"rtl\" >\n",
    "<h5 align=right style=\"font-size: 16px;line-height:150%;font-family:vazir;color:pink\">\n",
    "در این مدل تعداد همسایه های مورد بررسی 60 در نظر گرفته شده.\n",
    "اعداد مختلفی بررسی شدند و مشاهده شد بعد از 60، دقت رو به کاهش میرود..\r\n",
    "\n",
    "\n",
    "</h5>\n",
    "</div>\n",
    "\n"
   ]
  },
  {
   "cell_type": "markdown",
   "metadata": {},
   "source": [
    "<div style=\"border-top: 1px dashed #999;\"></div>"
   ]
  },
  {
   "cell_type": "markdown",
   "metadata": {},
   "source": [
    "<div dir=\"rtl\">\n",
    "<h3 align=right style=\"font-size: 16;line-height:100%;font-family:times new roman;color:white\">\n",
    "Naive Bayes\n",
    "</h3>\n",
    "</div>\n",
    "<div dir=\"rtl\">\n",
    "<p align=right style=\"font-size: 16;line-height:100%;font-family:vazir;color:white\">\n",
    "در این قسمت مدل خود را با استفاده از Naive Bayes آموزش دهید.\n",
    "</p>\n",
    "</div>"
   ]
  },
  {
   "cell_type": "code",
   "execution_count": 20,
   "metadata": {},
   "outputs": [
    {
     "data": {
      "text/html": [
       "<style>#sk-container-id-3 {color: black;}#sk-container-id-3 pre{padding: 0;}#sk-container-id-3 div.sk-toggleable {background-color: white;}#sk-container-id-3 label.sk-toggleable__label {cursor: pointer;display: block;width: 100%;margin-bottom: 0;padding: 0.3em;box-sizing: border-box;text-align: center;}#sk-container-id-3 label.sk-toggleable__label-arrow:before {content: \"▸\";float: left;margin-right: 0.25em;color: #696969;}#sk-container-id-3 label.sk-toggleable__label-arrow:hover:before {color: black;}#sk-container-id-3 div.sk-estimator:hover label.sk-toggleable__label-arrow:before {color: black;}#sk-container-id-3 div.sk-toggleable__content {max-height: 0;max-width: 0;overflow: hidden;text-align: left;background-color: #f0f8ff;}#sk-container-id-3 div.sk-toggleable__content pre {margin: 0.2em;color: black;border-radius: 0.25em;background-color: #f0f8ff;}#sk-container-id-3 input.sk-toggleable__control:checked~div.sk-toggleable__content {max-height: 200px;max-width: 100%;overflow: auto;}#sk-container-id-3 input.sk-toggleable__control:checked~label.sk-toggleable__label-arrow:before {content: \"▾\";}#sk-container-id-3 div.sk-estimator input.sk-toggleable__control:checked~label.sk-toggleable__label {background-color: #d4ebff;}#sk-container-id-3 div.sk-label input.sk-toggleable__control:checked~label.sk-toggleable__label {background-color: #d4ebff;}#sk-container-id-3 input.sk-hidden--visually {border: 0;clip: rect(1px 1px 1px 1px);clip: rect(1px, 1px, 1px, 1px);height: 1px;margin: -1px;overflow: hidden;padding: 0;position: absolute;width: 1px;}#sk-container-id-3 div.sk-estimator {font-family: monospace;background-color: #f0f8ff;border: 1px dotted black;border-radius: 0.25em;box-sizing: border-box;margin-bottom: 0.5em;}#sk-container-id-3 div.sk-estimator:hover {background-color: #d4ebff;}#sk-container-id-3 div.sk-parallel-item::after {content: \"\";width: 100%;border-bottom: 1px solid gray;flex-grow: 1;}#sk-container-id-3 div.sk-label:hover label.sk-toggleable__label {background-color: #d4ebff;}#sk-container-id-3 div.sk-serial::before {content: \"\";position: absolute;border-left: 1px solid gray;box-sizing: border-box;top: 0;bottom: 0;left: 50%;z-index: 0;}#sk-container-id-3 div.sk-serial {display: flex;flex-direction: column;align-items: center;background-color: white;padding-right: 0.2em;padding-left: 0.2em;position: relative;}#sk-container-id-3 div.sk-item {position: relative;z-index: 1;}#sk-container-id-3 div.sk-parallel {display: flex;align-items: stretch;justify-content: center;background-color: white;position: relative;}#sk-container-id-3 div.sk-item::before, #sk-container-id-3 div.sk-parallel-item::before {content: \"\";position: absolute;border-left: 1px solid gray;box-sizing: border-box;top: 0;bottom: 0;left: 50%;z-index: -1;}#sk-container-id-3 div.sk-parallel-item {display: flex;flex-direction: column;z-index: 1;position: relative;background-color: white;}#sk-container-id-3 div.sk-parallel-item:first-child::after {align-self: flex-end;width: 50%;}#sk-container-id-3 div.sk-parallel-item:last-child::after {align-self: flex-start;width: 50%;}#sk-container-id-3 div.sk-parallel-item:only-child::after {width: 0;}#sk-container-id-3 div.sk-dashed-wrapped {border: 1px dashed gray;margin: 0 0.4em 0.5em 0.4em;box-sizing: border-box;padding-bottom: 0.4em;background-color: white;}#sk-container-id-3 div.sk-label label {font-family: monospace;font-weight: bold;display: inline-block;line-height: 1.2em;}#sk-container-id-3 div.sk-label-container {text-align: center;}#sk-container-id-3 div.sk-container {/* jupyter's `normalize.less` sets `[hidden] { display: none; }` but bootstrap.min.css set `[hidden] { display: none !important; }` so we also need the `!important` here to be able to override the default hidden behavior on the sphinx rendered scikit-learn.org. See: https://github.com/scikit-learn/scikit-learn/issues/21755 */display: inline-block !important;position: relative;}#sk-container-id-3 div.sk-text-repr-fallback {display: none;}</style><div id=\"sk-container-id-3\" class=\"sk-top-container\"><div class=\"sk-text-repr-fallback\"><pre>GaussianNB()</pre><b>In a Jupyter environment, please rerun this cell to show the HTML representation or trust the notebook. <br />On GitHub, the HTML representation is unable to render, please try loading this page with nbviewer.org.</b></div><div class=\"sk-container\" hidden><div class=\"sk-item\"><div class=\"sk-estimator sk-toggleable\"><input class=\"sk-toggleable__control sk-hidden--visually\" id=\"sk-estimator-id-3\" type=\"checkbox\" checked><label for=\"sk-estimator-id-3\" class=\"sk-toggleable__label sk-toggleable__label-arrow\">GaussianNB</label><div class=\"sk-toggleable__content\"><pre>GaussianNB()</pre></div></div></div></div></div>"
      ],
      "text/plain": [
       "GaussianNB()"
      ]
     },
     "execution_count": 20,
     "metadata": {},
     "output_type": "execute_result"
    }
   ],
   "source": [
    "from sklearn.naive_bayes import GaussianNB\n",
    "\n",
    "nb_model = GaussianNB()\n",
    "\n",
    "# Train the KNN model on the training set\n",
    "nb_model.fit(X_train, y_train)\n",
    "\n"
   ]
  },
  {
   "cell_type": "markdown",
   "metadata": {},
   "source": [
    "<div dir=\"rtl\" >\n",
    "<h5 align=right style=\"font-size: 16px;line-height:150%;font-family:vazir;color:pink\">\n",
    "به جز  Gaussian انواع مختلفی از naive bayas وجود داشت.، در این حالت باید به به خصوصیات داده‌ها توجه کنیم. اگر ویژگی‌ها پیوسته باشند، ممکن است `GaussianNB` مناسب تر باشد. اگر ویژگی‌ها شمارش یا فراوانی باشند، می‌توان از `MultinomialNB` استفاده کرد. برای ویژگی‌های دودویی، `BernoulliNB` ممکن است مناسب‌تر باشد.\r\n",
    "\n",
    "\n",
    "</h5>\n",
    "</div>\n",
    "\n"
   ]
  },
  {
   "cell_type": "markdown",
   "metadata": {},
   "source": [
    "<div style=\"border-top: 1px dashed #999;\"></div>"
   ]
  },
  {
   "cell_type": "markdown",
   "metadata": {},
   "source": [
    "<div dir=\"rtl\">\n",
    "<h3 align=right style=\"font-size: 16;line-height:100%;font-family:times new roman;color:white\">\n",
    "Random Forest\n",
    "</h3>\n",
    "</div>\n",
    "<div dir=\"rtl\">\n",
    "<p align=right style=\"font-size: 16;line-height:100%;font-family:vazir;color:white\">\n",
    "در این قسمت مدل خود را با استفاده از RandomForestClassifier آموزش دهید.\n",
    "</p>\n",
    "</div>"
   ]
  },
  {
   "cell_type": "code",
   "execution_count": 21,
   "metadata": {},
   "outputs": [
    {
     "data": {
      "text/html": [
       "<style>#sk-container-id-4 {color: black;}#sk-container-id-4 pre{padding: 0;}#sk-container-id-4 div.sk-toggleable {background-color: white;}#sk-container-id-4 label.sk-toggleable__label {cursor: pointer;display: block;width: 100%;margin-bottom: 0;padding: 0.3em;box-sizing: border-box;text-align: center;}#sk-container-id-4 label.sk-toggleable__label-arrow:before {content: \"▸\";float: left;margin-right: 0.25em;color: #696969;}#sk-container-id-4 label.sk-toggleable__label-arrow:hover:before {color: black;}#sk-container-id-4 div.sk-estimator:hover label.sk-toggleable__label-arrow:before {color: black;}#sk-container-id-4 div.sk-toggleable__content {max-height: 0;max-width: 0;overflow: hidden;text-align: left;background-color: #f0f8ff;}#sk-container-id-4 div.sk-toggleable__content pre {margin: 0.2em;color: black;border-radius: 0.25em;background-color: #f0f8ff;}#sk-container-id-4 input.sk-toggleable__control:checked~div.sk-toggleable__content {max-height: 200px;max-width: 100%;overflow: auto;}#sk-container-id-4 input.sk-toggleable__control:checked~label.sk-toggleable__label-arrow:before {content: \"▾\";}#sk-container-id-4 div.sk-estimator input.sk-toggleable__control:checked~label.sk-toggleable__label {background-color: #d4ebff;}#sk-container-id-4 div.sk-label input.sk-toggleable__control:checked~label.sk-toggleable__label {background-color: #d4ebff;}#sk-container-id-4 input.sk-hidden--visually {border: 0;clip: rect(1px 1px 1px 1px);clip: rect(1px, 1px, 1px, 1px);height: 1px;margin: -1px;overflow: hidden;padding: 0;position: absolute;width: 1px;}#sk-container-id-4 div.sk-estimator {font-family: monospace;background-color: #f0f8ff;border: 1px dotted black;border-radius: 0.25em;box-sizing: border-box;margin-bottom: 0.5em;}#sk-container-id-4 div.sk-estimator:hover {background-color: #d4ebff;}#sk-container-id-4 div.sk-parallel-item::after {content: \"\";width: 100%;border-bottom: 1px solid gray;flex-grow: 1;}#sk-container-id-4 div.sk-label:hover label.sk-toggleable__label {background-color: #d4ebff;}#sk-container-id-4 div.sk-serial::before {content: \"\";position: absolute;border-left: 1px solid gray;box-sizing: border-box;top: 0;bottom: 0;left: 50%;z-index: 0;}#sk-container-id-4 div.sk-serial {display: flex;flex-direction: column;align-items: center;background-color: white;padding-right: 0.2em;padding-left: 0.2em;position: relative;}#sk-container-id-4 div.sk-item {position: relative;z-index: 1;}#sk-container-id-4 div.sk-parallel {display: flex;align-items: stretch;justify-content: center;background-color: white;position: relative;}#sk-container-id-4 div.sk-item::before, #sk-container-id-4 div.sk-parallel-item::before {content: \"\";position: absolute;border-left: 1px solid gray;box-sizing: border-box;top: 0;bottom: 0;left: 50%;z-index: -1;}#sk-container-id-4 div.sk-parallel-item {display: flex;flex-direction: column;z-index: 1;position: relative;background-color: white;}#sk-container-id-4 div.sk-parallel-item:first-child::after {align-self: flex-end;width: 50%;}#sk-container-id-4 div.sk-parallel-item:last-child::after {align-self: flex-start;width: 50%;}#sk-container-id-4 div.sk-parallel-item:only-child::after {width: 0;}#sk-container-id-4 div.sk-dashed-wrapped {border: 1px dashed gray;margin: 0 0.4em 0.5em 0.4em;box-sizing: border-box;padding-bottom: 0.4em;background-color: white;}#sk-container-id-4 div.sk-label label {font-family: monospace;font-weight: bold;display: inline-block;line-height: 1.2em;}#sk-container-id-4 div.sk-label-container {text-align: center;}#sk-container-id-4 div.sk-container {/* jupyter's `normalize.less` sets `[hidden] { display: none; }` but bootstrap.min.css set `[hidden] { display: none !important; }` so we also need the `!important` here to be able to override the default hidden behavior on the sphinx rendered scikit-learn.org. See: https://github.com/scikit-learn/scikit-learn/issues/21755 */display: inline-block !important;position: relative;}#sk-container-id-4 div.sk-text-repr-fallback {display: none;}</style><div id=\"sk-container-id-4\" class=\"sk-top-container\"><div class=\"sk-text-repr-fallback\"><pre>RandomForestClassifier(criterion=&#x27;entropy&#x27;, n_estimators=150, random_state=42)</pre><b>In a Jupyter environment, please rerun this cell to show the HTML representation or trust the notebook. <br />On GitHub, the HTML representation is unable to render, please try loading this page with nbviewer.org.</b></div><div class=\"sk-container\" hidden><div class=\"sk-item\"><div class=\"sk-estimator sk-toggleable\"><input class=\"sk-toggleable__control sk-hidden--visually\" id=\"sk-estimator-id-4\" type=\"checkbox\" checked><label for=\"sk-estimator-id-4\" class=\"sk-toggleable__label sk-toggleable__label-arrow\">RandomForestClassifier</label><div class=\"sk-toggleable__content\"><pre>RandomForestClassifier(criterion=&#x27;entropy&#x27;, n_estimators=150, random_state=42)</pre></div></div></div></div></div>"
      ],
      "text/plain": [
       "RandomForestClassifier(criterion='entropy', n_estimators=150, random_state=42)"
      ]
     },
     "execution_count": 21,
     "metadata": {},
     "output_type": "execute_result"
    }
   ],
   "source": [
    "from sklearn.ensemble import RandomForestClassifier\n",
    "rf_classifier = RandomForestClassifier(n_estimators=150, random_state=42,criterion='entropy')\n",
    "rf_classifier.fit(X_train, y_train)\n",
    "\n"
   ]
  },
  {
   "cell_type": "markdown",
   "metadata": {},
   "source": [
    "<div dir=\"rtl\" >\n",
    "<h5 align=right style=\"font-size: 16px;line-height:150%;font-family:vazir;color:pink\">\n",
    "پارامتر random state قبلا توضیح داده شده و برای randomness در مدل استفاده میشود. پارامتر n_estimators تعداد درختهای تصمیم گیری استفاده شده در مدل را تعیین میکند. با مقایسه اعداد مختلف مشاهده شد این عدد دقت نسبتا خوبی میدهد.\r",
    "<br/>\n",
    "بین معیار gini و معیار entropy تفاوت فاحشی در دقت وجود نداشت اما معیار آنتروپی کمی بهتر عمل کرد بنابراین آن را انتخاب کردیم.\n",
    "علت اینکه آنتروپی بهتر از جینی عمل کرده، ممکن است توزیع یکنواخت‌تر یا همگن‌تر کلاس‌ها در نودهای درخت باشد. از آنجایی که آنتروپی به تناسب با یکنواختی داده‌ها حساس‌تر است، در صورتی که کلاس‌ها متوازن تر باشند، آنتروپی ممکن است عملکرد بهتری داشته باشد.\n",
    "\n",
    "</h5>\n",
    "</div>\n",
    "\n"
   ]
  },
  {
   "cell_type": "markdown",
   "metadata": {},
   "source": [
    "\n",
    "---\n"
   ]
  },
  {
   "cell_type": "markdown",
   "metadata": {},
   "source": [
    "<div dir=\"rtl\">\n",
    "<h3 align=right style=\"font-size: 16;line-height:100%;font-family:vazir;color:white\">\n",
    "مقایسه مدل ها</h3>\n",
    "</div>\n",
    "\n",
    "<div dir=\"rtl\">\n",
    "<p align=right style=\"font-size: 16;line-height:100%;font-family:vazir;color:white\">\n",
    "\n",
    "ﺩﺭ ﻧﻬﺎﻳﺖ ﺑﻌﺪ ﺍﺯ ﺁﻣﻮﺯﺵ ﻣﺪﻝ ﻫﺎ، ﺑﺮﺍﻱ ﺍﺭﺯﻳﺎﺑﻲ ﻋﻤﻠﻜﺮﺩ ﻣﺪﻝ ﻫﺎ، ﺍﺯ ﻣﺠﻤﻮﻋﻪ ﺩﺍﺩﻩ\n",
    "<code> Adult_TestDataset </code>\n",
    "ﺍﺳﺘﻔﺎﺩﻩ ﻧﻤﺎﻳﻴﺪ ﻭ ﺑﺎ ﺍﺳﺘﻔﺎﺩﻩ ﺍﺯ ﻣﺎﺗﺮﻳﺲ ﺩﺭﻫﻢ ﺭﻳﺨﺘﮕﻲ\n",
    "<code> (confusion matrix) </code>\n",
    "ﻭ ﻣﻌﻴﺎﺭﻫﺎﻱ ﺍﺭﺯﻳﺎﺑﻲ\n",
    "<code> recall  </code>,\n",
    "<code> precision  </code>,\n",
    "<code> accuracy  </code>,\n",
    "<code> f1-score    </code>\n",
    " ، ﺑﻪ ﺗﺤﻠﻴﻞ ﻧﺘﺎﻳﺞ ﺑﺪﺳﺖ ﺁﻣﺪﻩ ﺑﭙﺮﺩﺍﺯﻳﺪ. ﺗﻮﺟﻪ ﺩﺍﺷﺘﻪ ﺑﺎﺷﻴﺪ ﻛﻪ ﺑﺮﺍﻱ ﺳﺎﺩﮔﻲ ﻛﺎﺭ، ﻣﻲ ﺗﻮﺍﻧﻴﺪ ﺑﺎ ﺍﺳﺘﻔﺎﺩﻩ ﺍﺯ ﺗﻮﺍﺑﻊ ﺁﻣﺎﺩﻩsklearn  ، ﻣﺎﺗﺮﻳﺲ ﺩﺭﻫﻢ ﺭﻳﺨﺘﮕﻲ ﻭ ﻣﻌﻴﺎﺭﻫﺎﻱ ﺍﺭﺯﻳﺎﺑﻲ ﺭﺍ ﺑﺪﺳﺖ ﺁﻭﺭﻳﺪ.\n",
    "\n",
    "</p>\n",
    "</div>"
   ]
  },
  {
   "cell_type": "code",
   "execution_count": 22,
   "metadata": {},
   "outputs": [
    {
     "name": "stdout",
     "output_type": "stream",
     "text": [
      "SVM model:\n",
      "Accuracy: 0.8484\n",
      "Confusion Matrix:\n",
      "[[11731   704]\n",
      " [ 1765  2081]]\n",
      "Classification Report:\n",
      "              precision    recall  f1-score   support\n",
      "\n",
      "         0.0       0.87      0.94      0.90     12435\n",
      "         1.0       0.75      0.54      0.63      3846\n",
      "\n",
      "    accuracy                           0.85     16281\n",
      "   macro avg       0.81      0.74      0.77     16281\n",
      "weighted avg       0.84      0.85      0.84     16281\n",
      "\n",
      "------------------------------------\n",
      "KNN model:\n",
      "Accuracy: 0.8294\n",
      "Confusion Matrix:\n",
      "[[11377  1058]\n",
      " [ 1719  2127]]\n",
      "Classification Report:\n",
      "              precision    recall  f1-score   support\n",
      "\n",
      "         0.0       0.87      0.91      0.89     12435\n",
      "         1.0       0.67      0.55      0.61      3846\n",
      "\n",
      "    accuracy                           0.83     16281\n",
      "   macro avg       0.77      0.73      0.75     16281\n",
      "weighted avg       0.82      0.83      0.82     16281\n",
      "\n",
      "------------------------------------\n",
      "Naice Bayas model:\n",
      "Accuracy: 0.8034\n",
      "Confusion Matrix:\n",
      "[[11748   687]\n",
      " [ 2514  1332]]\n",
      "Classification Report:\n",
      "              precision    recall  f1-score   support\n",
      "\n",
      "         0.0       0.82      0.94      0.88     12435\n",
      "         1.0       0.66      0.35      0.45      3846\n",
      "\n",
      "    accuracy                           0.80     16281\n",
      "   macro avg       0.74      0.65      0.67     16281\n",
      "weighted avg       0.78      0.80      0.78     16281\n",
      "\n",
      "------------------------------------\n",
      "Random Forest model:\n",
      "Accuracy: 0.8406\n",
      "Confusion Matrix:\n",
      "[[11556   879]\n",
      " [ 1716  2130]]\n",
      "Classification Report:\n",
      "              precision    recall  f1-score   support\n",
      "\n",
      "         0.0       0.87      0.93      0.90     12435\n",
      "         1.0       0.71      0.55      0.62      3846\n",
      "\n",
      "    accuracy                           0.84     16281\n",
      "   macro avg       0.79      0.74      0.76     16281\n",
      "weighted avg       0.83      0.84      0.83     16281\n",
      "\n"
     ]
    }
   ],
   "source": [
    "# SVM\n",
    "svm_model_y_pred = svm_model.predict(X_test)\n",
    "\n",
    "svm_model_accuracy = accuracy_score(y_test, svm_model_y_pred)\n",
    "svm_model_conf_matrix = confusion_matrix(y_test, svm_model_y_pred)\n",
    "svm_model_classification_rep = classification_report(y_test, svm_model_y_pred)\n",
    "print(\"SVM model:\")\n",
    "print(f\"Accuracy: {svm_model_accuracy:.4f}\")\n",
    "print(\"Confusion Matrix:\")\n",
    "print(svm_model_conf_matrix)\n",
    "print(\"Classification Report:\")\n",
    "print(svm_model_classification_rep)\n",
    "print(\"------------------------------------\")\n",
    "\n",
    "\n",
    "# KNN\n",
    "knn_model_y_pred = knn_model.predict(X_test)\n",
    "\n",
    "knn_model_accuracy = accuracy_score(y_test, knn_model_y_pred)\n",
    "knn_model_conf_matrix = confusion_matrix(y_test, knn_model_y_pred)\n",
    "knn_model_classification_rep = classification_report(y_test, knn_model_y_pred)\n",
    "print(\"KNN model:\")\n",
    "print(f\"Accuracy: {knn_model_accuracy:.4f}\")\n",
    "print(\"Confusion Matrix:\")\n",
    "print(knn_model_conf_matrix)\n",
    "print(\"Classification Report:\")\n",
    "print(knn_model_classification_rep)\n",
    "print(\"------------------------------------\")\n",
    "\n",
    "# Naice Bayas\n",
    "nb_model_y_pred = nb_model.predict(X_test)\n",
    "\n",
    "nb_model_accuracy = accuracy_score(y_test, nb_model_y_pred)\n",
    "nb_model_conf_matrix = confusion_matrix(y_test, nb_model_y_pred)\n",
    "nb_model_classification_rep = classification_report(y_test, nb_model_y_pred)\n",
    "print(\"Naice Bayas model:\")\n",
    "print(f\"Accuracy: {nb_model_accuracy:.4f}\")\n",
    "print(\"Confusion Matrix:\")\n",
    "print(nb_model_conf_matrix)\n",
    "print(\"Classification Report:\")\n",
    "print(nb_model_classification_rep)\n",
    "print(\"------------------------------------\")\n",
    "\n",
    "# Random Forest\n",
    "rf_classifier_y_pred = rf_classifier.predict(X_test)\n",
    "\n",
    "rf_classifier_accuracy = accuracy_score(y_test, rf_classifier_y_pred)\n",
    "rf_classifier_conf_matrix = confusion_matrix(y_test, rf_classifier_y_pred)\n",
    "rf_classifier_classification_rep = classification_report(y_test, rf_classifier_y_pred)\n",
    "print(\"Random Forest model:\")\n",
    "print(f\"Accuracy: {rf_classifier_accuracy:.4f}\")\n",
    "print(\"Confusion Matrix:\")\n",
    "print(rf_classifier_conf_matrix)\n",
    "print(\"Classification Report:\")\n",
    "print(rf_classifier_classification_rep)"
   ]
  },
  {
   "cell_type": "markdown",
   "metadata": {},
   "source": [
    "<div dir=\"rtl\" align=center style=\"font-size: 16px;line-height:100%;font-family:vazir;color:#0099cc\">\n",
    "    تحیل شما\n",
    "</div>"
   ]
  },
  {
   "cell_type": "markdown",
   "metadata": {},
   "source": [
    "<div dir=\"rtl\" align=right style=\"font-size: 16px;line-height:150%;font-family:vazir;color:pink\">\n",
    "Confusion Matrix عملکرد یک الگوریتم دسته‌بندی (classification) را توصیف می‌کند. این ماتریس، پیش‌بینی‌های مدل را به چهار دسته تفکیک می‌کند. \n",
    "    \r\n",
    "- **TP (True Positives):** تعداد موارد مثبت  واقعی که به درستی تشخیص داده شده‌اند.\r\n",
    "- **TN (True Negatives):** تعداد موارد منفی واقعی که به درستی تشخیص داده شده‌اند.\r\n",
    "- **FP (False Positives):** تعداد موارد منفی واقعی که به اشتباه به عنوان مثبت تشخیص داده شده‌اند.\r\n",
    "- **FN (False Negatives):** تعداد موارد مثبت واقعی که به اشتباه به عنوان منفی تشخیص داده شده‌ااشد.\r\n",
    "\n",
    "<div dir=\"rtl\" align=right style=\"font-size: 16px;line-height:150%;font-family:vazir;color:pink\">\n",
    "    همچنین، به این ماتریس به نام \"جدول درهم‌آمیختگی\" اشاره می‌شود، زیرا نشان‌دهنده درهم‌آمیختگی بین پیش‌بینی‌های مدل و واقعیت می‌باشد.\n",
    "</div>\n",
    "</div>\n"
   ]
  },
  {
   "attachments": {
    "90fbab58-b91a-41ac-b1ca-75e6ba7a2380.png": {
     "image/png": "[encoded data removed]"
    }
   },
   "cell_type": "markdown",
   "metadata": {},
   "source": [
    "<div  dir=\"rtl\" align=center>\n",
    "    \n",
    "![conf-matrix.png](attachment:90fbab58-b91a-41ac-b1ca-75e6ba7a2380.png)\n",
    "</div>"
   ]
  },
  {
   "cell_type": "markdown",
   "metadata": {},
   "source": [
    "<div dir=\"rtl\" align=right style=\"font-size: 16px;line-height:150%;font-family:vazir;color:pink\">\n",
    "به طور کلی هرچه اعداد روی قطر اصلی بزرگتر باشند و اعداد روی قطر فرعی کوچکتر باشند بهتر است.\n",
    "    <br/>\n",
    "    در مدلهایی که آموزش دادیم، naive bayas بدترین ماتریس را دارد، TN در این ماتریس در اوردر 1300است درحالی که در بقیه مدل ها در اوردر 2000 است.\n",
    "    <br/>\n",
    "بین سایر مدلها قطر اصلی ماتریس ها تقریبا مشابه بود اما قطر فرعی در SVM بهتر از بقیه است و مشاهده میشود دقت این مدل هم بالاتر است.\n",
    "</div>"
   ]
  },
  {
   "attachments": {
    "060b59b6-6682-4b35-b530-364d4f9e8916.png": {
     "image/png": "[encoded data removed]"
    }
   },
   "cell_type": "markdown",
   "metadata": {},
   "source": [
    "![formulas.png](attachment:060b59b6-6682-4b35-b530-364d4f9e8916.png)"
   ]
  },
  {
   "cell_type": "markdown",
   "metadata": {},
   "source": [
    "<div dir=\"rtl\" align=right style=\"font-size: 16px;line-height:150%;font-family:vazir;color:pink\">\n",
    "accuracy یا دقت، میزان تشخیص های درست مدل بین تمام تشخیص هایش را بیان میکند.عملکرد کلی مدل را میتوان با این معیار سنجید.\n",
    "    \n",
    "- **مقایسه Accuracy بین مدلهای مختلف:** SVM > Random Forest > KNN > Naive Bayas\n",
    "\n",
    "</div>\n",
    "<div dir=\"rtl\" align=right style=\"font-size: 16px;line-height:150%;font-family:vazir;color:yellow\">\n",
    "precision بیان میکند که چند درصد مواقع، مدل وقتی کلاس x را پیش بینی کرده این پیش بینی درست بوده.\n",
    "    \n",
    "- **مقایسه میانگین precision بین مدلهای مختلف:** SVM > Random Forest > KNN > Naive Bayas\n",
    "\n",
    "</div>\n",
    "<div dir=\"rtl\" align=right style=\"font-size: 16px;line-height:150%;font-family:vazir;color:pink\">\n",
    "recall معیاریست برای بیان اینکه مدل در کل چقدر از کلاس x را به درستی پیش بینی کرده. درواقع میزان پوشش جواب های درست را بررسی میکند. توجه داشته باشید که لزوما اگر مدل precision بالا داشته باشد recall آن بالا نیست و بالعکس.\n",
    "  \n",
    "    \n",
    "- **مقایسه recall بین مدلهای مختلف:** SVM = Random Forest > KNN > Naive Bayas\n",
    "-   این میانگین های غیر وزندار بین کلاس های مختلف پیش بینی است. درصورت مقایسه میانگین وزندار SVM نتایج بهتری ارائه میدهد.\n",
    "\n",
    "\n",
    "\n",
    "\n",
    "</div>\n",
    "<div dir=\"rtl\" align=right style=\"font-size: 16px;line-height:150%;font-family:vazir;color:yellow\">\r\n",
    "F1 Score یک معیار جامع برای ارزیابی عملکرد یک مدل دسته‌بندی است که دقت و بازخوانی را ترکیب می‌کند. این معیار، با توجه به معضل عدم رابطه مستقیم و بین دقت و بازخوانی، یک مقیاس کلی از عملکرد مدل را ارائه می‌دهد. ارزش F1 Score بیشتر زمانی است که مهم است هم دقت مدل بالا باشد و هم هرچه بیشتر نمونه‌های مثبت واقعی تشخیص داده شوند.\n",
    " \n",
    "- **مقایسه میانگینf1-scoren بین مدلهای مختلف:** SVM > Random Forest > KNN > Naive Bayas\n",
    "\n",
    "</div\n",
    "\n",
    ">"
   ]
  },
  {
   "cell_type": "markdown",
   "metadata": {},
   "source": [
    "<div dir=\"rtl\" align=center style=\"font-size: 16px;line-height:100%;font-family:vazir;color:#0099cc\">\n",
    "در کل با توجه به نتایج مقایسه معیار ها، مدل SVM عملکرد بهتری داشته است.\n",
    "</div>"
   ]
  },
  {
   "attachments": {},
   "cell_type": "markdown",
   "metadata": {},
   "source": [
    "\n",
    "---\n"
   ]
  },
  {
   "cell_type": "markdown",
   "metadata": {},
   "source": [
    "<div dir=\"rtl\">\n",
    "<h3 align=right style=\"font-size: 16;line-height:100%;font-family:vazir;color:green\">\n",
    "بخش امتیازی\n",
    "</h3>\n",
    "\n",
    "<p dir=rtl style=\"direction: rtl;text-align: justify;line-height:200%;font-family:vazir;font-size:medium\">\n",
    "هر روش دیگری برای آموزش مدل را میتوانید در این بخش پیاده سازی نمایید ، اما لازمه آن فهم کامل آن روش هست پس در صورتی که روش دیگری را نیز پیاده سازی کردید فهم خود را از نتایج بدست آمده و خود روش بنویسید.\n",
    "</p>\n",
    "\n",
    "</div>\n",
    "\n"
   ]
  },
  {
   "cell_type": "code",
   "execution_count": 23,
   "metadata": {},
   "outputs": [
    {
     "name": "stdout",
     "output_type": "stream",
     "text": [
      "Random Forest model:\n",
      "Accuracy: 0.8497\n",
      "Confusion Matrix:\n",
      "[[11777   658]\n",
      " [ 1789  2057]]\n",
      "Classification Report:\n",
      "              precision    recall  f1-score   support\n",
      "\n",
      "         0.0       0.87      0.95      0.91     12435\n",
      "         1.0       0.76      0.53      0.63      3846\n",
      "\n",
      "    accuracy                           0.85     16281\n",
      "   macro avg       0.81      0.74      0.77     16281\n",
      "weighted avg       0.84      0.85      0.84     16281\n",
      "\n"
     ]
    }
   ],
   "source": [
    "from sklearn.ensemble import GradientBoostingClassifier\n",
    "\n",
    "gb_classifier = GradientBoostingClassifier(learning_rate=0.1,n_estimators=100,random_state=42)\n",
    "\n",
    "gb_classifier.fit(X_train, y_train)\n",
    "\n",
    "gb_classifier_y_pred = gb_classifier.predict(X_test)\n",
    "gb_classifier_accuracy = accuracy_score(y_test, gb_classifier_y_pred)\n",
    "gb_classifier_conf_matrix = confusion_matrix(y_test, gb_classifier_y_pred)\n",
    "gb_classifier_classification_rep = classification_report(y_test, gb_classifier_y_pred)\n",
    "print(\"Random Forest model:\")\n",
    "print(f\"Accuracy: {gb_classifier_accuracy:.4f}\")\n",
    "print(\"Confusion Matrix:\")\n",
    "print(gb_classifier_conf_matrix)\n",
    "print(\"Classification Report:\")\n",
    "print(gb_classifier_classification_rep)"
   ]
  },
  {
   "cell_type": "markdown",
   "metadata": {},
   "source": [
    "<div align=center style=\"font-size: 16;line-height:100%;font-family:vazir;color:#0099cc\">\n",
    "    تحیل شما از مدل امتیازی\n",
    "</div>"
   ]
  },
  {
   "cell_type": "markdown",
   "metadata": {},
   "source": [
    "<div dir=\"rtl\" align=right style=\"font-size: 16px;line-height:160%;font-family:vazir;color:pink\">\n",
    "مدل GradientBoostingClassifier در scikit-learn یک الگوریتم یادگیری ماشین از دسته‌ی مدل‌های تقویتی (Ensemble Learning) است که با استفاده از چندین تصمیم‌گیرنده ضعیف (معمولاً درخت تصمیم) به صورت متوالی، یک مدل قوی را ایجاد می‌کند. این الگوریتم مرحله به مرحله، با توجه به خطاهای مدل قبلی، تصمیم‌گیرنده ‌های جدید را میسازد تا خطاها کمتر شوند.\n",
    "    <br/>\n",
    "    <br/>\n",
    "    الگوریتم کار خود را به این شکل انجام می‌دهد:\n",
    "    \n",
    "- **مرحله اول (تصمیم‌گیرنده اولیه) :** یک تصمیم‌گیرنده اولیه (معمولاً یک درخت تصمیم با کمینه‌سازی خطای مربعات) ایجاد می‌شود.\n",
    "- **مرحله‌های بعدی :** برای هر مرحله بعد، یک تصمیم‌گیرنده ضعیف جدید ایجاد می‌شود به طوریکه خطاهای مدل کاهش پیدا کنند. این تصمیم‌گیرنده جدید با توجه به خطاهای مراحل قبلی به مدل افزوده می‌شود.\n",
    "- **ترکیب :** تصمیم‌گیرنده ‌های ضعیف متعدد با توجه به وزن‌هایی که به آن‌ها اختصاص داده شده‌، با هم ترکیب می‌شوند تا یک تصمیم‌گیرنده قوی‌ به دست آید.\n",
    "- **پیش‌بینی نهایی :** با اجتماع تمام تصمیم‌گیرنده ‌ها، مدل نهایی به دست می‌آید که قادر به پیش‌بینی خروجی برای داده‌های جدید است.\n",
    "\n",
    "</div>\n",
    "<div dir=\"rtl\" align=right style=\"font-size: 16px;line-height:160%;font-family:vazir;color:pink\">\n",
    "مشاهده میشود این مدل نیز عملکرد نسبتا خوبی داشته و به دقت 0.85 رسیده است.\n",
    "\n",
    "</div>"
   ]
  },
  {
   "cell_type": "markdown",
   "metadata": {},
   "source": []
  }
 ],
 "metadata": {
  "kernelspec": {
   "display_name": "Python 3 (ipykernel)",
   "language": "python",
   "name": "python3"
  },
  "language_info": {
   "codemirror_mode": {
    "name": "ipython",
    "version": 3
   },
   "file_extension": ".py",
   "mimetype": "text/x-python",
   "name": "python",
   "nbconvert_exporter": "python",
   "pygments_lexer": "ipython3",
   "version": "3.10.4"
  }
 },
 "nbformat": 4,
 "nbformat_minor": 4
}
